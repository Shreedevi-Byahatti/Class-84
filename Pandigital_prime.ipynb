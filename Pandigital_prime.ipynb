{
  "nbformat": 4,
  "nbformat_minor": 0,
  "metadata": {
    "colab": {
      "provenance": [],
      "include_colab_link": true
    },
    "kernelspec": {
      "name": "python3",
      "display_name": "Python 3"
    },
    "language_info": {
      "name": "python"
    }
  },
  "cells": [
    {
      "cell_type": "markdown",
      "metadata": {
        "id": "view-in-github",
        "colab_type": "text"
      },
      "source": [
        "<a href=\"https://colab.research.google.com/github/Shreedevi-Byahatti/Class-84/blob/main/Pandigital_prime.ipynb\" target=\"_parent\"><img src=\"https://colab.research.google.com/assets/colab-badge.svg\" alt=\"Open In Colab\"/></a>"
      ]
    },
    {
      "cell_type": "code",
      "execution_count": null,
      "metadata": {
        "id": "RT5FZXPfF8-f"
      },
      "outputs": [],
      "source": [
        "!pip install eulerlib\n",
        "import eulerlib\n",
        "\n",
        "def compute():\n",
        "\t# Note: The only 1-digit pandigital number is 1, which is not prime. Thus we require n >= 2.\n",
        "\tfor n in reversed(range(2, 10)):\n",
        "\t\tarr = list(reversed(range(1, n + 1)))\n",
        "\t\twhile True:\n",
        "\t\t\tif arr[-1] not in NONPRIME_LAST_DIGITS:\n",
        "\t\t\t\tn = int(\"\".join(str(x) for x in arr))\n",
        "\t\t\t\tif eulerlib.is_prime(n):\n",
        "\t\t\t\t\treturn str(n)\n",
        "\t\t\tif not prev_permutation(arr):\n",
        "\t\t\t\tbreak\n",
        "\traise AssertionError()\n",
        "\n",
        "NONPRIME_LAST_DIGITS = {0, 2, 4, 5, 6, 8}\n",
        "\n",
        "def prev_permutation(arr):\n",
        "\ti = len(arr) - 1\n",
        "\twhile i > 0 and arr[i - 1] <= arr[i]:\n",
        "\t\ti -= 1\n",
        "\tif i <= 0:\n",
        "\t\treturn False\n",
        "\tj = len(arr) - 1\n",
        "\twhile arr[j] >= arr[i - 1]:\n",
        "\t\tj -= 1\n",
        "\tarr[i - 1], arr[j] = arr[j], arr[i - 1]\n",
        "\tarr[i : ] = arr[len(arr) - 1 : i - 1 : -1]\n",
        "\treturn True\n",
        "\n",
        "\n",
        "if __name__ == \"__main__\":\n",
        "\tprint(compute())"
      ]
    },
    {
      "cell_type": "code",
      "source": [
        "import itertools\n",
        "\n",
        "\n",
        "def compute():\n",
        "\tpentanum = PentagonalNumberHelper()\n",
        "\tmin_d = None  # None means not found yet, positive number means found a candidate\n",
        "\t# For each upper pentagonal number index, going upward\n",
        "\tfor i in itertools.count(2):\n",
        "\t\tpent_i = pentanum.term(i)\n",
        "\t\t# If the next number down is at least as big as a found difference, then conclude searching\n",
        "\t\tif min_d is not None and pent_i - pentanum.term(i - 1) >= min_d:\n",
        "\t\t\tbreak\n",
        "\n",
        "\t\t# For each lower pentagonal number index, going downward\n",
        "\t\tfor j in range(i - 1, 0, -1):\n",
        "\t\t\tpent_j = pentanum.term(j)\n",
        "\t\t\tdiff = pent_i - pent_j\n",
        "\t\t\t# If the difference is at least as big as a found difference, then stop testing lower pentagonal numbers\n",
        "\t\t\tif min_d is not None and diff >= min_d:\n",
        "\t\t\t\tbreak\n",
        "\t\t\telif pentanum.is_term(pent_i + pent_j) and pentanum.is_term(diff):\n",
        "\t\t\t\tmin_d = diff  # Found a smaller difference\n",
        "\treturn str(min_d)\n",
        "\n",
        "\n",
        "# Provides memoization for generating and testing pentagonal numbers.\n",
        "class PentagonalNumberHelper:\n",
        "\tdef __init__(self):\n",
        "\t\tself.term_list = [0]\n",
        "\t\tself.term_set = set()\n",
        "\n",
        "\tdef term(self, x):\n",
        "\t\tassert x > 0\n",
        "\t\twhile len(self.term_list) <= x:\n",
        "\t\t\tn = len(self.term_list)\n",
        "\t\t\tterm = (n * (n * 3 - 1)) >> 1\n",
        "\t\t\tself.term_list.append(term)\n",
        "\t\t\tself.term_set.add(term)\n",
        "\t\treturn self.term_list[x]\n",
        "\n",
        "\tdef is_term(self, y):\n",
        "\t\tassert y > 0\n",
        "\t\twhile self.term_list[-1] < y:\n",
        "\t\t\tn = len(self.term_list)\n",
        "\t\t\tterm = (n * (n * 3 - 1)) >> 1\n",
        "\t\t\tself.term_list.append(term)\n",
        "\t\t\tself.term_set.add(term)\n",
        "\t\treturn y in self.term_set\n",
        "\n",
        "\n",
        "if __name__ == \"__main__\":\n",
        "\tprint(compute())"
      ],
      "metadata": {
        "colab": {
          "base_uri": "https://localhost:8080/"
        },
        "id": "8VF6EcnWHp5R",
        "outputId": "dff083c2-c762-4bfc-a5b2-1e1a8a82d3af"
      },
      "execution_count": null,
      "outputs": [
        {
          "output_type": "stream",
          "name": "stdout",
          "text": [
            "5482660\n"
          ]
        }
      ]
    },
    {
      "cell_type": "code",
      "source": [
        "import itertools\n",
        "\n",
        "\n",
        "def compute():\n",
        "\tans = sum(int(\"\".join(map(str, num)))\n",
        "\t\tfor num in itertools.permutations(list(range(10)))\n",
        "\t\tif is_substring_divisible(num))\n",
        "\treturn str(ans)\n",
        "\n",
        "\n",
        "DIVISIBILITY_TESTS = [2, 3, 5, 7, 11, 13, 17]\n",
        "\n",
        "def is_substring_divisible(num):\n",
        "\treturn all((num[i + 1] * 100 + num[i + 2] * 10 + num[i + 3]) % p == 0\n",
        "\t\tfor (i, p) in enumerate(DIVISIBILITY_TESTS))\n",
        "\n",
        "\n",
        "if __name__ == \"__main__\":\n",
        "\tprint(compute())"
      ],
      "metadata": {
        "colab": {
          "base_uri": "https://localhost:8080/"
        },
        "id": "CJvQaHHKH-lC",
        "outputId": "05de3122-ca75-425f-9614-7abf9d30d1e3"
      },
      "execution_count": null,
      "outputs": [
        {
          "output_type": "stream",
          "name": "stdout",
          "text": [
            "16695334890\n"
          ]
        }
      ]
    },
    {
      "cell_type": "code",
      "source": [
        "def is_prime(n):\n",
        "    if n <= 1:\n",
        "        return False\n",
        "    if n <= 3:\n",
        "        return True\n",
        "    if n % 2 == 0 or n % 3 == 0:\n",
        "        return False\n",
        "\n",
        "    i = 5\n",
        "    while i * i <= n:\n",
        "        if n % i == 0 or n % (i + 2) == 0:\n",
        "            return False\n",
        "        i += 6\n",
        "\n",
        "    return True\n",
        "\n",
        "def is_circular_prime(n):\n",
        "    num_str = str(n)\n",
        "    for i in range(len(num_str)):\n",
        "        rotated = int(num_str[i:] + num_str[:i])\n",
        "        if not is_prime(rotated):\n",
        "            return False\n",
        "    return True\n",
        "\n",
        "def count_circular_primes(limit):\n",
        "    count = 0\n",
        "    for i in range(2, limit):\n",
        "        if is_prime(i) and is_circular_prime(i):\n",
        "            count += 1\n",
        "    return count\n",
        "\n",
        "limit = 1000000  # You can change this limit to suit your needs\n",
        "circular_primes_count = count_circular_primes(limit)\n",
        "print(\"The number of circular primes below\", limit, \"is:\", circular_primes_count)\n"
      ],
      "metadata": {
        "colab": {
          "base_uri": "https://localhost:8080/"
        },
        "id": "bSxBrc5EKtqN",
        "outputId": "e0f51cd7-921b-49ec-b111-fbe5876bf5ea"
      },
      "execution_count": null,
      "outputs": [
        {
          "output_type": "stream",
          "name": "stdout",
          "text": [
            "The number of circular primes below 1000000 is: 55\n"
          ]
        }
      ]
    },
    {
      "cell_type": "code",
      "source": [
        "def get_triangle_number(n):\n",
        "    return n * (n + 1) // 2\n",
        "\n",
        "def count_divisors(num):\n",
        "    divisors = 0\n",
        "    for i in range(1, int(num ** 0.5) + 1):\n",
        "        if num % i == 0:\n",
        "            divisors += 2  # Count both the divisor and its corresponding pair\n",
        "    if num ** 0.5 == int(num ** 0.5):\n",
        "        divisors -= 1  # If it's a perfect square, subtract one to avoid double counting the square root\n",
        "    return divisors\n",
        "\n",
        "def find_triangle_number_with_divisors(divisor_count):\n",
        "    n = 1\n",
        "    while True:\n",
        "        triangle_num = get_triangle_number(n)\n",
        "        divisors = count_divisors(triangle_num)\n",
        "        if divisors > divisor_count:\n",
        "            return triangle_num\n",
        "        n += 1\n",
        "\n",
        "divisor_count = 500\n",
        "result = find_triangle_number_with_divisors(divisor_count)\n",
        "print(\"The first triangle number with over\", divisor_count, \"divisors is:\", result)\n"
      ],
      "metadata": {
        "colab": {
          "base_uri": "https://localhost:8080/"
        },
        "id": "DOj9otX_NORb",
        "outputId": "38b0af49-81a3-4aa2-aefa-a333d9cbc8dd"
      },
      "execution_count": null,
      "outputs": [
        {
          "output_type": "stream",
          "name": "stdout",
          "text": [
            "The first triangle number with over 500 divisors is: 76576500\n"
          ]
        }
      ]
    },
    {
      "cell_type": "code",
      "source": [
        "def sieve_eratosthenes(limit):\n",
        "    sieve = [True] * (limit + 1)\n",
        "    sieve[0] = sieve[1] = False\n",
        "    for p in range(2, int(limit**0.5) + 1):\n",
        "        if sieve[p]:\n",
        "            for i in range(p * p, limit + 1, p):\n",
        "                sieve[i] = False\n",
        "    return [p for p, is_prime in enumerate(sieve) if is_prime]\n",
        "\n",
        "def prime_power_triples(limit):\n",
        "    prime_limit = int(limit**0.5)\n",
        "    primes = sieve_eratosthenes(prime_limit)\n",
        "    squares = [p ** 2 for p in primes if p ** 2 < limit]\n",
        "    cubes = [p ** 3 for p in primes if p ** 3 < limit]\n",
        "    fourth_powers = [p ** 4 for p in primes if p ** 4 < limit]\n",
        "\n",
        "    numbers = set()\n",
        "    for a in squares:\n",
        "        for b in cubes:\n",
        "            for c in fourth_powers:\n",
        "                total = a + b + c\n",
        "                if total < limit:\n",
        "                    numbers.add(total)\n",
        "\n",
        "    return len(numbers)\n",
        "\n",
        "limit = 50000000\n",
        "result = prime_power_triples(limit)\n",
        "print(\"The number of numbers below\", limit, \"that can be expressed as the sum of a prime square, prime cube, and prime fourth power is:\", result)\n"
      ],
      "metadata": {
        "colab": {
          "base_uri": "https://localhost:8080/"
        },
        "id": "fhJ-zpSsUFCd",
        "outputId": "61e71f1c-9ac8-4cee-d726-3093dcaf2a81"
      },
      "execution_count": null,
      "outputs": [
        {
          "output_type": "stream",
          "name": "stdout",
          "text": [
            "The number of numbers below 50000000 that can be expressed as the sum of a prime square, prime cube, and prime fourth power is: 1097343\n"
          ]
        }
      ]
    }
  ]
}