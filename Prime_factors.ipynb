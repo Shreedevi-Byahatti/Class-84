{
  "cells": [
    {
      "cell_type": "markdown",
      "metadata": {
        "id": "view-in-github",
        "colab_type": "text"
      },
      "source": [
        "<a href=\"https://colab.research.google.com/github/Shreedevi-Byahatti/Class-84/blob/main/Prime_factors.ipynb\" target=\"_parent\"><img src=\"https://colab.research.google.com/assets/colab-badge.svg\" alt=\"Open In Colab\"/></a>"
      ]
    },
    {
      "cell_type": "code",
      "execution_count": null,
      "metadata": {
        "colab": {
          "base_uri": "https://localhost:8080/"
        },
        "id": "JhNmV_REicpD",
        "outputId": "512f5489-f71e-4ad9-a4da-113c91d7b05c"
      },
      "outputs": [
        {
          "name": "stdout",
          "output_type": "stream",
          "text": [
            "The prime factors of 315 are: [3, 3, 5, 7]\n"
          ]
        }
      ],
      "source": [
        "def prime_factors(n):\n",
        "    factors = []\n",
        "    i = 2\n",
        "    while i * i <= n:\n",
        "        if n % i:\n",
        "            i += 1\n",
        "        else:\n",
        "            n //= i\n",
        "            factors.append(i)\n",
        "    if n > 1:\n",
        "        factors.append(n)\n",
        "    return factors\n",
        "\n",
        "if __name__ == \"__main__\":\n",
        "    number = 315\n",
        "    factors = prime_factors(number)\n",
        "    print(f\"The prime factors of {number} are: {factors}\")"
      ]
    },
    {
      "cell_type": "code",
      "execution_count": null,
      "metadata": {
        "colab": {
          "base_uri": "https://localhost:8080/"
        },
        "id": "TbxtGXuCihHG",
        "outputId": "20fd5e9a-6160-4a4e-e864-6021be8ec301"
      },
      "outputs": [
        {
          "name": "stdout",
          "output_type": "stream",
          "text": [
            "The prime factors of 315 are: [3, 3, 5, 7]\n"
          ]
        }
      ],
      "source": [
        "def prime_factors(n):\n",
        "    factors = []\n",
        "    divisor = 2\n",
        "    while divisor <= n:\n",
        "        if n % divisor == 0:\n",
        "            factors.append(divisor)\n",
        "            n /= divisor\n",
        "        else:\n",
        "            divisor += 1\n",
        "    return factors\n",
        "if __name__ == \"__main__\":\n",
        "    number = 315\n",
        "    factors = prime_factors(number)\n",
        "    print(f\"The prime factors of {number} are: {factors}\")\n",
        "\n"
      ]
    },
    {
      "cell_type": "code",
      "execution_count": null,
      "metadata": {
        "colab": {
          "base_uri": "https://localhost:8080/"
        },
        "id": "vBld58D7vag1",
        "outputId": "eb64e130-e633-4bcc-fd5e-31b4c3cf2fb6"
      },
      "outputs": [
        {
          "name": "stdout",
          "output_type": "stream",
          "text": [
            "The largest prime factor of 7259486 is: 279211\n"
          ]
        }
      ],
      "source": [
        "def largest_prime_factor(n):\n",
        "    prime_factor = 2\n",
        "    while n > 1:\n",
        "        if n % prime_factor == 0:\n",
        "            n //= prime_factor\n",
        "        else:\n",
        "            prime_factor += 1\n",
        "    return prime_factor\n",
        "\n",
        "if __name__ == \"__main__\":\n",
        "    number = 7259486\n",
        "    result = largest_prime_factor(number)\n",
        "    print(f\"The largest prime factor of {number} is: {result}\")\n"
      ]
    },
    {
      "cell_type": "code",
      "execution_count": null,
      "metadata": {
        "colab": {
          "base_uri": "https://localhost:8080/"
        },
        "id": "MJ9qYhldmCPN",
        "outputId": "a6ad56d9-75b9-42f3-e3f1-16e6a1cbd263"
      },
      "outputs": [
        {
          "name": "stdout",
          "output_type": "stream",
          "text": [
            "The largest prime factor of 7259486 is: 279211\n"
          ]
        }
      ],
      "source": [
        "def largest_prime_factor(n):\n",
        "    factor = 2\n",
        "    while factor * factor <= n:\n",
        "        if n % factor:\n",
        "            factor += 1\n",
        "        else:\n",
        "            n //= factor\n",
        "    return n\n",
        "\n",
        "if __name__ == \"__main__\":\n",
        "    number = 7259486\n",
        "    result = largest_prime_factor(number)\n",
        "    print(f\"The largest prime factor of {number} is: {result}\")"
      ]
    },
    {
      "cell_type": "code",
      "execution_count": null,
      "metadata": {
        "colab": {
          "base_uri": "https://localhost:8080/"
        },
        "id": "EjPLDhKUduDJ",
        "outputId": "125d8f5d-540d-4947-c925-68c0d222e089"
      },
      "outputs": [
        {
          "name": "stdout",
          "output_type": "stream",
          "text": [
            "The first 4 consecutive numbers with 4 distinct prime factors are: [1217250, 1217251, 1217252, 1217253]\n"
          ]
        }
      ],
      "source": [
        "from sympy import primefactors\n",
        "\n",
        "def find_consecutive_numbers(num_factors, length):\n",
        "    consecutive_count = 0\n",
        "    current_number = 2\n",
        "\n",
        "    while consecutive_count < length:\n",
        "        if all(len(primefactors(current_number + i)) == num_factors for i in range(length)):\n",
        "            consecutive_count += 1\n",
        "        else:\n",
        "            consecutive_count = 0\n",
        "        current_number += 1\n",
        "\n",
        "    return current_number - length\n",
        "\n",
        "if __name__ == \"__main__\":\n",
        "    num_factors = 4\n",
        "    length = 4\n",
        "    result = find_consecutive_numbers(num_factors, length)\n",
        "    print(f\"The first {length} consecutive numbers with {num_factors} distinct prime factors are: {list(range(result, result + length))}\")\n"
      ]
    },
    {
      "cell_type": "code",
      "execution_count": null,
      "metadata": {
        "colab": {
          "background_save": true,
          "base_uri": "https://localhost:8080/"
        },
        "id": "CAIsvjIIlb0T",
        "outputId": "9692a777-7a4b-40ef-c57c-98c89f14ce97"
      },
      "outputs": [
        {
          "name": "stdout",
          "output_type": "stream",
          "text": [
            "The first 4 consecutive numbers with 4 distinct prime factors are: [1217250, 1217251, 1217252, 1217253]\n"
          ]
        }
      ],
      "source": [
        "def prime_factors_count(n):\n",
        "    factors = {}\n",
        "    i = 2\n",
        "    while i * i <= n:\n",
        "        while n % i == 0:\n",
        "            n //= i\n",
        "            factors[i] = 1 if i not in factors else factors[i] + 1\n",
        "        i += 1\n",
        "    if n > 1:\n",
        "        factors[n] = 1\n",
        "    return len(factors)\n",
        "\n",
        "def find_consecutive_numbers(num_factors, length):\n",
        "    consecutive_count = 0\n",
        "    current_number = 1\n",
        "\n",
        "    while consecutive_count < length:\n",
        "        if all(prime_factors_count(current_number + i) == num_factors for i in range(length)):\n",
        "            consecutive_count += 1\n",
        "        else:\n",
        "            consecutive_count = 0\n",
        "        current_number += 1\n",
        "\n",
        "    return current_number - length\n",
        "\n",
        "if __name__ == \"__main__\":\n",
        "    num_factors = 4\n",
        "    length = 4\n",
        "    result = find_consecutive_numbers(num_factors, length)\n",
        "    print(f\"The first {length} consecutive numbers with {num_factors} distinct prime factors are: {list(range(result, result + length))}\")"
      ]
    }
  ],
  "metadata": {
    "colab": {
      "provenance": [],
      "include_colab_link": true
    },
    "kernelspec": {
      "display_name": "Python 3",
      "name": "python3"
    },
    "language_info": {
      "name": "python"
    }
  },
  "nbformat": 4,
  "nbformat_minor": 0
}