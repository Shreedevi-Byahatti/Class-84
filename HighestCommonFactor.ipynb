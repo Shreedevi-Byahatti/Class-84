{
  "nbformat": 4,
  "nbformat_minor": 0,
  "metadata": {
    "colab": {
      "provenance": [],
      "include_colab_link": true
    },
    "kernelspec": {
      "name": "python3",
      "display_name": "Python 3"
    },
    "language_info": {
      "name": "python"
    }
  },
  "cells": [
    {
      "cell_type": "markdown",
      "metadata": {
        "id": "view-in-github",
        "colab_type": "text"
      },
      "source": [
        "<a href=\"https://colab.research.google.com/github/Shreedevi-Byahatti/Class-84/blob/main/HighestCommonFactor.ipynb\" target=\"_parent\"><img src=\"https://colab.research.google.com/assets/colab-badge.svg\" alt=\"Open In Colab\"/></a>"
      ]
    },
    {
      "cell_type": "code",
      "execution_count": null,
      "metadata": {
        "id": "MHeIr5PIzjMP",
        "colab": {
          "base_uri": "https://localhost:8080/"
        },
        "outputId": "40767d8b-442f-43e2-b461-085d8eb89cda"
      },
      "outputs": [
        {
          "output_type": "stream",
          "name": "stdout",
          "text": [
            "Enter Number 1: 26\n",
            "Enter Number 2: 42\n",
            "The Highest Common Factor of 26 and 42 is:  2\n"
          ]
        }
      ],
      "source": [
        "#Student Activity-1.1: Highest Common Factor(HCF) of two numbers using for loop\n",
        "def calculate_hcf(n1, n2):\n",
        "\n",
        "    if n1 == 0 and n2 == 0:\n",
        "      return 0;\n",
        "    if n1 == 0:\n",
        "      return n2;\n",
        "    if n2 == 0:\n",
        "      return n1;\n",
        "  # selecting the smaller number\n",
        "    if n1 > n2:\n",
        "        smaller = n2\n",
        "    else:\n",
        "        smaller = n1\n",
        "    for i in range(1,smaller + 1):\n",
        "        if((n1 % i == 0) and (n2 % i == 0)):\n",
        "            hcf_value = i\n",
        "    return hcf_value\n",
        "\n",
        "num1 = int(input(\"Enter Number 1: \"))\n",
        "num2 = int(input(\"Enter Number 2: \"))\n",
        "final_hcf = calculate_hcf(num1, num2)\n",
        "print(\"The Highest Common Factor of\", num1,\"and\", num2,\"is: \",final_hcf)\n"
      ]
    },
    {
      "cell_type": "code",
      "source": [
        "#Student Activity 1.2 :\n",
        "def compute():\n",
        "\tresult = 10**10\n",
        "\tans = (28433 * pow(2, 7830457, result) + 1) % result\n",
        "\treturn str(ans)\n",
        "\n",
        "print(compute())\n"
      ],
      "metadata": {
        "colab": {
          "base_uri": "https://localhost:8080/"
        },
        "id": "h8GvAxzngyIE",
        "outputId": "387c1c65-44b1-49ae-e6f9-e6f16c50e5d6"
      },
      "execution_count": null,
      "outputs": [
        {
          "output_type": "stream",
          "name": "stdout",
          "text": [
            "8739992577\n"
          ]
        }
      ]
    },
    {
      "cell_type": "code",
      "source": [
        "#Student Activity-2.1: Find the Highest Common Factor(HCF) of 2 numbers entered by user, using recursive function.\n",
        "#Recursive function to return gcd of a and b\n",
        "def calculate_hcf(n1,n2):\n",
        "    # Everything divides 0\n",
        "    if (n2 == 0):\n",
        "         return n1\n",
        "    return calculate_hcf(n2, n1 % n2)\n",
        "\n",
        "num1 = int(input(\"Enter Number 1: \"))\n",
        "num2 = int(input(\"Enter Number 2: \"))\n",
        "final_hcf  = calculate_hcf(num1, num2)\n",
        "\n",
        "if(calculate_hcf(num1, num2)):\n",
        "    print(\"The Highest Common Factor of\", num1, \"and\", num2, \"is:\",final_hcf )\n",
        "else:\n",
        "    print('not found')\n"
      ],
      "metadata": {
        "colab": {
          "base_uri": "https://localhost:8080/"
        },
        "id": "MoQ4w103K01g",
        "outputId": "1c69a0d7-e3c4-4cab-8720-fa8c3f4711c9"
      },
      "execution_count": null,
      "outputs": [
        {
          "output_type": "stream",
          "name": "stdout",
          "text": [
            "Enter Number 1: 48\n",
            "Enter Number 2: 60\n",
            "The Highest Common Factor of 48 and 60 is: 12\n"
          ]
        }
      ]
    },
    {
      "cell_type": "code",
      "source": [
        "#student activity 2.2: Square Root Digital Expansion\n",
        "digits = 100\n",
        "multiplier = 10 ** (2 * digits)\n",
        "ans = 0\n",
        "\n",
        "for i in range(100):\n",
        "    if (i ** 0.5).is_integer():\n",
        "        continue  # Skip perfect squares\n",
        "    root = int((i * multiplier) ** 0.5)\n",
        "    root_str = str(root)[:digits]\n",
        "    digit_sum = 0\n",
        "    for digit in root_str:\n",
        "        digit_sum += int(digit)\n",
        "    ans += digit_sum\n",
        "\n",
        "print(str(ans))"
      ],
      "metadata": {
        "colab": {
          "base_uri": "https://localhost:8080/"
        },
        "id": "cr09p6Pphf9W",
        "outputId": "2b43e0b3-d388-46f6-cb48-f94636caf6f3"
      },
      "execution_count": null,
      "outputs": [
        {
          "output_type": "stream",
          "name": "stdout",
          "text": [
            "41004\n"
          ]
        }
      ]
    },
    {
      "cell_type": "code",
      "source": [
        "#Student Activity-3.1 : Find the HCF of numbers in a list entered by user.\n",
        "def calculate_hcf(n1, n2):\n",
        "    while n2 > 0:\n",
        "        n1, n2 = n2, n1 % n2\n",
        "    return n1\n",
        "\n",
        "mylist = []\n",
        "count = int(input(\"Enter the count of numbers you want in the list: \"))\n",
        "print(\"Please enter \",count,\"numbers: \")\n",
        "for i in range(0,count):\n",
        "  mylist.append(int(input()))\n",
        "\n",
        "print(\"The list of numbers entered by user: \",mylist)\n",
        "\n",
        "result = mylist[0]\n",
        "for i in mylist[1:]:\n",
        "    result = calculate_hcf(result, i)\n",
        "print(\"The HCF of all the numbers in the \",mylist,\"list is: \",result)\n"
      ],
      "metadata": {
        "colab": {
          "base_uri": "https://localhost:8080/"
        },
        "id": "oEpLwQl2VScw",
        "outputId": "e1e89652-e9b9-408c-ff28-bf9e2940c40c"
      },
      "execution_count": null,
      "outputs": [
        {
          "output_type": "stream",
          "name": "stdout",
          "text": [
            "Enter the count of numbers you want in the list: 2\n",
            "Please enter  2 numbers: \n",
            "8\n",
            "12\n",
            "The list of numbers entered by user:  [8, 12]\n",
            "The HCF of all the numbers in the  [8, 12] list is:  4\n"
          ]
        }
      ]
    },
    {
      "cell_type": "code",
      "source": [
        "#Student Activity 3.2: - Bouncy Numbers\n",
        "def is_bouncy(n):\n",
        "    s = str(n)\n",
        "    t = \"\".join(sorted(s))\n",
        "    return s != t and s[::-1] != t\n",
        "\n",
        "count = 0\n",
        "for i in range(1, 10000000):\n",
        "  if is_bouncy(i):\n",
        "    count += 1\n",
        "  if count * 100 == 99 * i:\n",
        "    print(str(i))\n"
      ],
      "metadata": {
        "colab": {
          "base_uri": "https://localhost:8080/"
        },
        "id": "Jsz4zK7Lnonk",
        "outputId": "58cdfdc9-2ebe-4d82-b031-615a39d0fff5"
      },
      "execution_count": null,
      "outputs": [
        {
          "output_type": "stream",
          "name": "stdout",
          "text": [
            "1587000\n"
          ]
        }
      ]
    }
  ]
}