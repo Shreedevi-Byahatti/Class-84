{
  "nbformat": 4,
  "nbformat_minor": 0,
  "metadata": {
    "colab": {
      "provenance": [],
      "include_colab_link": true
    },
    "kernelspec": {
      "name": "python3",
      "display_name": "Python 3"
    },
    "language_info": {
      "name": "python"
    }
  },
  "cells": [
    {
      "cell_type": "markdown",
      "metadata": {
        "id": "view-in-github",
        "colab_type": "text"
      },
      "source": [
        "<a href=\"https://colab.research.google.com/github/Shreedevi-Byahatti/Class-84/blob/main/smallest_multiple_of_number.ipynb\" target=\"_parent\"><img src=\"https://colab.research.google.com/assets/colab-badge.svg\" alt=\"Open In Colab\"/></a>"
      ]
    },
    {
      "cell_type": "code",
      "execution_count": null,
      "metadata": {
        "colab": {
          "base_uri": "https://localhost:8080/",
          "height": 35
        },
        "id": "Hfx0JzXY9fU_",
        "outputId": "f506d7b2-21d4-42de-916f-4dfa617ba50c"
      },
      "outputs": [
        {
          "output_type": "execute_result",
          "data": {
            "text/plain": [
              "'232792560'"
            ],
            "application/vnd.google.colaboratory.intrinsic+json": {
              "type": "string"
            }
          },
          "metadata": {},
          "execution_count": 1
        }
      ],
      "source": [
        "import math\n",
        "\n",
        "def compute():\n",
        "\tans = 1\n",
        "\tfor i in range(1, 21):\n",
        "\t\tans *= i // math.gcd(i, ans)\n",
        "\treturn str(ans)\n",
        "compute()"
      ]
    },
    {
      "cell_type": "code",
      "source": [
        "def smallest_multiple_of_number(number, target):\n",
        "    multiple = number\n",
        "    while multiple < target:\n",
        "        multiple += number\n",
        "    return multiple\n",
        "\n",
        "# Input your number and target here\n",
        "input_number = int(input(\"Enter a number: \"))\n",
        "input_target = int(input(\"Enter a target number: \"))\n",
        "\n",
        "result = smallest_multiple_of_number(input_number, input_target)\n",
        "print(f\"The smallest multiple of {input_number} that is greater than or equal to {input_target} is {result}\")\n"
      ],
      "metadata": {
        "id": "I01XGwll_lyw",
        "outputId": "5e178287-1d65-49e0-a3c4-b79cc8132eeb",
        "colab": {
          "base_uri": "https://localhost:8080/"
        }
      },
      "execution_count": null,
      "outputs": [
        {
          "output_type": "stream",
          "name": "stdout",
          "text": [
            "Enter a number: 20\n",
            "Enter a target number: 201\n",
            "The smallest multiple of 20 that is greater than or equal to 201 is 220\n"
          ]
        }
      ]
    },
    {
      "cell_type": "code",
      "source": [
        "import decimal\n",
        "\n",
        "def smallest_multiple_of_euler():\n",
        "    decimal.getcontext().prec = 100\n",
        "    euler_number = decimal.Decimal('2.71828')\n",
        "    multiple = decimal.Decimal(1)\n",
        "\n",
        "    while True:\n",
        "        if multiple % euler_number == 0:\n",
        "            return multiple\n",
        "        multiple += 1\n",
        "\n",
        "result = smallest_multiple_of_euler()\n",
        "print(f\"The smallest multiple of Euler's number is approximately {result}\")\n"
      ],
      "metadata": {
        "colab": {
          "base_uri": "https://localhost:8080/"
        },
        "id": "VI-38MJaBk3R",
        "outputId": "3e92a0c0-22a6-45ba-ca94-63a7d02a5bde"
      },
      "execution_count": null,
      "outputs": [
        {
          "output_type": "stream",
          "name": "stdout",
          "text": [
            "The smallest multiple of Euler's number is approximately 67957\n"
          ]
        }
      ]
    },
    {
      "cell_type": "code",
      "source": [
        "import math\n",
        "\n",
        "def smallest_multiple_of_euler(number):\n",
        "    multiple = 1\n",
        "    while True:\n",
        "        if multiple % number == 0:\n",
        "            return multiple\n",
        "        multiple += 1\n",
        "\n",
        "euler_number = math.e  # Euler's number\n",
        "number_to_find_multiple = 9  # Replace with the number for which you want to find the multiple\n",
        "result = smallest_multiple_of_euler(number_to_find_multiple)\n",
        "print(f\"The smallest multiple of Euler's number {euler_number} that is divisible by {number_to_find_multiple} is {result}\")\n"
      ],
      "metadata": {
        "colab": {
          "base_uri": "https://localhost:8080/"
        },
        "id": "piX_9B46Ef6M",
        "outputId": "c7660867-c6c5-4f15-c947-d1814c2d229b"
      },
      "execution_count": null,
      "outputs": [
        {
          "output_type": "stream",
          "name": "stdout",
          "text": [
            "The smallest multiple of Euler's number 2.718281828459045 that is divisible by 9 is 9\n"
          ]
        }
      ]
    },
    {
      "cell_type": "code",
      "source": [
        "import math\n",
        "def smallest_multiple_of_euler(number):\n",
        "    multiple=1\n",
        "    while True:\n",
        "        if multiple % number==0:\n",
        "            return multiple\n",
        "        multiple += 1\n",
        "euler_num=math.e\n",
        "num_to_find_mul=9\n",
        "result=smallest_multiple_of_euler(num_to_find_mul)\n",
        "print(f'the smallest multiple of eulers num {euler_num} that is divisible by {num_to_find_mul} is {result}')"
      ],
      "metadata": {
        "colab": {
          "base_uri": "https://localhost:8080/"
        },
        "id": "xXgV8-hxsyaS",
        "outputId": "61186b52-9494-4e3a-9799-49b1ac6d2333"
      },
      "execution_count": null,
      "outputs": [
        {
          "output_type": "stream",
          "name": "stdout",
          "text": [
            "the smallest multiple of eulers num 2.718281828459045 that is divisible by 9 is 9\n"
          ]
        }
      ]
    },
    {
      "cell_type": "code",
      "source": [
        "def smallest_multiple_of_euler_number(number):\n",
        "    multiple = number\n",
        "\n",
        "    while True:\n",
        "        if all(multiple % i == 0 for i in range(1, number + 1)):\n",
        "            return multiple  # If it's divisible by all numbers from 1 to the given number, return it.\n",
        "\n",
        "        multiple += number  # Otherwise, check the next multiple.\n",
        "\n",
        "# Input the number for which you want to find the smallest multiple\n",
        "number = int(input(\"Enter a number: \"))\n",
        "\n",
        "result = smallest_multiple_of_euler_number(number)\n",
        "print(f\"The smallest multiple of {number} is {result}\")\n"
      ],
      "metadata": {
        "colab": {
          "base_uri": "https://localhost:8080/"
        },
        "id": "W1crD-5TEqzP",
        "outputId": "8e4fa6e2-9846-4373-ed0b-40a8819c6410"
      },
      "execution_count": null,
      "outputs": [
        {
          "output_type": "stream",
          "name": "stdout",
          "text": [
            "Enter a number: 12\n",
            "The smallest multiple of 12 is 27720\n"
          ]
        }
      ]
    },
    {
      "cell_type": "code",
      "source": [
        "import math\n",
        "\n",
        "def euler_phi(n):\n",
        "    result = n\n",
        "    p = 2\n",
        "    while p * p <= n:\n",
        "        if n % p == 0:\n",
        "            while n % p == 0:\n",
        "                n //= p\n",
        "            result -= result // p\n",
        "        p += 1\n",
        "    if n > 1:\n",
        "        result -= result // n\n",
        "\n",
        "    return result\n",
        "\n",
        "def smallest_multiple_of_euler(n):\n",
        "    phi = euler_phi(n)\n",
        "    return n // math.gcd(n, phi)\n",
        "\n",
        "# Example\n",
        "number = 12\n",
        "result = smallest_multiple_of_euler(number)\n",
        "print(f\"The smallest multiple of {number} is {result}\")\n"
      ],
      "metadata": {
        "id": "IrnSzq7QFDeQ",
        "outputId": "abf96778-d978-4184-82e9-14c8acdfa621",
        "colab": {
          "base_uri": "https://localhost:8080/"
        }
      },
      "execution_count": null,
      "outputs": [
        {
          "output_type": "stream",
          "name": "stdout",
          "text": [
            "The smallest multiple of 12 is 3\n"
          ]
        }
      ]
    }
  ]
}