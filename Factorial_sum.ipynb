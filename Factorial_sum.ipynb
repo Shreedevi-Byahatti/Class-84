{
  "nbformat": 4,
  "nbformat_minor": 0,
  "metadata": {
    "colab": {
      "provenance": [],
      "include_colab_link": true
    },
    "kernelspec": {
      "name": "python3",
      "display_name": "Python 3"
    },
    "language_info": {
      "name": "python"
    }
  },
  "cells": [
    {
      "cell_type": "markdown",
      "metadata": {
        "id": "view-in-github",
        "colab_type": "text"
      },
      "source": [
        "<a href=\"https://colab.research.google.com/github/Shreedevi-Byahatti/Class-84/blob/main/Factorial_sum.ipynb\" target=\"_parent\"><img src=\"https://colab.research.google.com/assets/colab-badge.svg\" alt=\"Open In Colab\"/></a>"
      ]
    },
    {
      "cell_type": "code",
      "execution_count": null,
      "metadata": {
        "colab": {
          "base_uri": "https://localhost:8080/"
        },
        "id": "Uc0ypbTvaZtW",
        "outputId": "81a305e0-6fab-40d7-868e-3e407b10d7e8"
      },
      "outputs": [
        {
          "output_type": "stream",
          "name": "stdout",
          "text": [
            "Input number: 100\n",
            "The factorial of 100 is: 93326215443944152681699238856266700490715968264381621468592963895217599993229915608941463976156518286253697920827223758251185210916864000000000000000000000000\n",
            "The factorial digit sum of 100 is: 648\n"
          ]
        }
      ],
      "source": [
        "# Factorial Digit Sum 20\n",
        "def factorial(n):\n",
        "    if n == 0 or n == 1:\n",
        "        return 1\n",
        "    else:\n",
        "        return n * factorial(n - 1)\n",
        "\n",
        "def digit_sum(number):\n",
        "    sum_of_digits = 0\n",
        "    while number:\n",
        "        sum_of_digits += number % 10\n",
        "        number //= 10\n",
        "    return sum_of_digits\n",
        "\n",
        "def factorial_digit_sum(n):\n",
        "    factorial_result = factorial(n)\n",
        "    return digit_sum(factorial_result)\n",
        "\n",
        "# Example usage\n",
        "number = int(input(\"Input number: \"))\n",
        "factorial = factorial(number)\n",
        "result = digit_sum(factorial)\n",
        "print(f\"The factorial of {number} is: {factorial}\")\n",
        "print(f\"The factorial digit sum of {number} is: {result}\")"
      ]
    },
    {
      "cell_type": "code",
      "source": [
        "# Digit Factorial Chains 74\n",
        "import math\n",
        "\n",
        "def calculate_factorial(n):\n",
        "    return math.factorial(int(n))\n",
        "\n",
        "def sum_of_factorials(number):\n",
        "    return sum(calculate_factorial(digit) for digit in str(number))\n",
        "\n",
        "def generate_factorial_chain(starting_number, max_iterations):\n",
        "    current_number = starting_number\n",
        "    chain = [current_number]\n",
        "\n",
        "    for _ in range(max_iterations):\n",
        "        current_number = sum_of_factorials(current_number)\n",
        "        if current_number in chain:\n",
        "            chain.append(f\"({current_number})\")\n",
        "            break\n",
        "        chain.append(current_number)\n",
        "    return chain\n",
        "\n",
        "# Example usage\n",
        "starting_number = int(input(\"Input number: \"))\n",
        "max_iterations = 20\n",
        "factorial_chain = generate_factorial_chain(starting_number, max_iterations)\n",
        "\n",
        "print(\"Factorial Chain:\")\n",
        "print(factorial_chain)"
      ],
      "metadata": {
        "colab": {
          "base_uri": "https://localhost:8080/"
        },
        "id": "-ViejXtidD-y",
        "outputId": "539229b0-95c1-4b09-911f-da0e4add7bf5"
      },
      "execution_count": null,
      "outputs": [
        {
          "output_type": "stream",
          "name": "stdout",
          "text": [
            "Input number: 1234\n",
            "Factorial Chain:\n",
            "[1234, 33, 12, 3, 6, 720, 5043, 151, 122, 5, 120, 4, 24, 26, 722, 5044, 169, 363601, 1454, '(169)']\n"
          ]
        }
      ]
    },
    {
      "cell_type": "code",
      "source": [
        "# Square Root Convergents 57\n",
        "num, den, count = 3, 2, 0\n",
        "for iter in range(0, 1000):\n",
        "    num, den = num + den + den, num + den\n",
        "    if len(str(num)) > len(str(den)):\n",
        "        count += 1\n",
        "print (count)"
      ],
      "metadata": {
        "colab": {
          "base_uri": "https://localhost:8080/"
        },
        "id": "sHdfja1ZrLur",
        "outputId": "bc8fcde1-6eff-4b1f-be87-da64b700e602"
      },
      "execution_count": null,
      "outputs": [
        {
          "output_type": "stream",
          "name": "stdout",
          "text": [
            "153\n"
          ]
        }
      ]
    },
    {
      "cell_type": "code",
      "source": [
        "# Digit Factorials 34\n",
        "def sum_of_digits_factorial(n, fact):\n",
        "    s = 0\n",
        "    while n > 0:\n",
        "        d = n % 10\n",
        "        s = s + fact[d]\n",
        "        n = n // 10\n",
        "    return s\n",
        "\n",
        "factorials = [1, 1, 2, 6, 24, 120, 720, 5040, 40320, 362880]\n",
        "\n",
        "print(sum(n for n in range(10, 100000) if n == sum_of_digits_factorial(n, factorials)))\n"
      ],
      "metadata": {
        "id": "0JF7em5oi6YH",
        "colab": {
          "base_uri": "https://localhost:8080/"
        },
        "outputId": "4c7d83d2-bab0-41c8-fbb3-098abf2fb41d"
      },
      "execution_count": null,
      "outputs": [
        {
          "output_type": "stream",
          "name": "stdout",
          "text": [
            "972\n"
          ]
        }
      ]
    },
    {
      "cell_type": "code",
      "source": [
        "# Lychrel Numbers 55\n",
        "def is_lychrel(n):\n",
        "    n = str(n)\n",
        "    for count in range(0, 50):\n",
        "        n = str(int(n) + int(n[::-1]))\n",
        "        if n == n[::-1]: return False\n",
        "    return True\n",
        "\n",
        "print (sum(1 for n in range(0, 10000) if is_lychrel(n)))"
      ],
      "metadata": {
        "colab": {
          "base_uri": "https://localhost:8080/"
        },
        "id": "f0xJfIbB18M4",
        "outputId": "bccfb127-9731-4a6e-e4cd-8c5c698123c0"
      },
      "execution_count": null,
      "outputs": [
        {
          "output_type": "stream",
          "name": "stdout",
          "text": [
            "249\n"
          ]
        }
      ]
    },
    {
      "cell_type": "code",
      "source": [
        "# Spiral Primes 58\n",
        "def is_prime(n):\n",
        "    if n < 2:\n",
        "        return False\n",
        "    for i in range(2, int(n**0.5) + 1):\n",
        "        if n % i == 0:\n",
        "            return False\n",
        "    return True\n",
        "\n",
        "def count_primes_in_diagonals(size):\n",
        "    diagonal_numbers = [1]\n",
        "    primes_count = 0\n",
        "    width = 1\n",
        "    increment = 2\n",
        "\n",
        "    while width < size:\n",
        "        for i in range(4):\n",
        "            number = diagonal_numbers[-1] + increment\n",
        "            diagonal_numbers.append(number)\n",
        "            if i < 3 and is_prime(number):\n",
        "                primes_count += 1\n",
        "\n",
        "        width += 2\n",
        "        increment += 2\n",
        "\n",
        "        ratio = primes_count / len(diagonal_numbers)\n",
        "        if ratio < 0.1:\n",
        "            return width\n",
        "    return None\n",
        "\n",
        "size = 1000000\n",
        "result = count_primes_in_diagonals(size)\n",
        "\n",
        "if result:\n",
        "    print(\"The side length of the square spiral:\", result)\n",
        "else:\n",
        "    print(\"Solution not found for the given size.\")"
      ],
      "metadata": {
        "colab": {
          "base_uri": "https://localhost:8080/"
        },
        "id": "s4ZnrLjW2I-o",
        "outputId": "7bb1f152-06f1-4625-cac0-16549de3ae18"
      },
      "execution_count": null,
      "outputs": [
        {
          "output_type": "stream",
          "name": "stdout",
          "text": [
            "The side length of the square spiral: 26241\n"
          ]
        }
      ]
    },
    {
      "cell_type": "code",
      "source": [],
      "metadata": {
        "id": "BxXOYAk74gvA"
      },
      "execution_count": null,
      "outputs": []
    }
  ]
}