{
  "nbformat": 4,
  "nbformat_minor": 0,
  "metadata": {
    "colab": {
      "provenance": [],
      "include_colab_link": true
    },
    "kernelspec": {
      "name": "python3",
      "display_name": "Python 3"
    },
    "language_info": {
      "name": "python"
    }
  },
  "cells": [
    {
      "cell_type": "markdown",
      "metadata": {
        "id": "view-in-github",
        "colab_type": "text"
      },
      "source": [
        "<a href=\"https://colab.research.google.com/github/Shreedevi-Byahatti/Class-84/blob/main/Coded_triangle_numbers.ipynb\" target=\"_parent\"><img src=\"https://colab.research.google.com/assets/colab-badge.svg\" alt=\"Open In Colab\"/></a>"
      ]
    },
    {
      "cell_type": "code",
      "execution_count": null,
      "metadata": {
        "colab": {
          "base_uri": "https://localhost:8080/"
        },
        "id": "5cVU4iu_zQCb",
        "outputId": "e36c297d-d8d3-471d-8ecf-bf371962c53c"
      },
      "outputs": [
        {
          "output_type": "stream",
          "name": "stdout",
          "text": [
            "162\n"
          ]
        }
      ],
      "source": [
        "# Integer right triangles 42\n",
        "def worth(word):\n",
        "    return sum(ord(letter) - ord('A') + 1 for letter in word)\n",
        "\n",
        "with open('0042_words.txt') as file:\n",
        "    words = file.read().replace('\"', '').split(',')\n",
        "\n",
        "triangle_numbers = {n*(n+1)//2 for n in range(1, 100)}\n",
        "\n",
        "count = sum(1 for word in words if worth(word) in triangle_numbers)\n",
        "print(count)"
      ]
    },
    {
      "cell_type": "code",
      "source": [
        "# Prime Permutations 49\n",
        "# Define a function to check if a number is prime\n",
        "def is_prime(num):\n",
        "    if num < 2:\n",
        "        return False\n",
        "    for i in range(2, int(num**0.5) + 1):\n",
        "        if num % i == 0:\n",
        "            return False\n",
        "    return True\n",
        "\n",
        "# Generate permutations\n",
        "def permutations(lst):\n",
        "    if len(lst) == 0:\n",
        "        yield []\n",
        "    elif len(lst) == 1:\n",
        "        yield lst\n",
        "    else:\n",
        "        for i in range(len(lst)):\n",
        "            rest = lst[:i] + lst[i+1:]\n",
        "            for p in permutations(rest):\n",
        "                yield [lst[i]] + p\n",
        "found=False\n",
        "# Check permutations and find the desired sequence\n",
        "for num in range(1000, 10000):\n",
        "    if found:\n",
        "      break\n",
        "    if str(num).find('0') >= 0:\n",
        "        continue\n",
        "\n",
        "    if is_prime(num):\n",
        "        prime_permutations = {num: 1}\n",
        "        for x in permutations(list(str(num))):\n",
        "            next_num = int(''.join(x))\n",
        "            if is_prime(next_num):\n",
        "                prime_permutations[next_num] = 1\n",
        "\n",
        "        primes = sorted(prime_permutations.keys())\n",
        "        for a in range(0, len(primes)):\n",
        "            if found:\n",
        "              break\n",
        "            if primes[a] == 1487:\n",
        "                continue\n",
        "            for b in range(a+1, len(primes)):\n",
        "                c = (primes[a] + primes[b]) // 2\n",
        "                if c in prime_permutations:\n",
        "                    print(str(primes[a]) + str(c) + str(primes[b]))\n",
        "                    found=True\n",
        "                    break\n"
      ],
      "metadata": {
        "id": "F0n-MO1TSmF1",
        "colab": {
          "base_uri": "https://localhost:8080/"
        },
        "outputId": "0831a605-a2dc-4f8d-ed36-1e7f3984a0cd"
      },
      "execution_count": null,
      "outputs": [
        {
          "output_type": "stream",
          "name": "stdout",
          "text": [
            "296962999629\n"
          ]
        }
      ]
    },
    {
      "cell_type": "code",
      "source": [
        "# Cubic Permutations 62\n",
        "import itertools\n",
        "\n",
        "numdigits = 0\n",
        "data = {}\n",
        "\n",
        "for i in itertools.count():\n",
        "    digits = [int(c) for c in str(i**3)]\n",
        "    digits.sort()\n",
        "    numclass = \"\".join(str(d) for d in digits)\n",
        "\n",
        "    if len(numclass) > numdigits:\n",
        "        candidates = [lowest for (lowest, count) in data.values() if count == 5]\n",
        "        if len(candidates) > 0:\n",
        "            print(str(min(candidates)**3))\n",
        "            break\n",
        "        data = {}\n",
        "        numdigits = len(numclass)\n",
        "\n",
        "    lowest, count = data.get(numclass, (i, 0))\n",
        "    data[numclass] = (lowest, count + 1)"
      ],
      "metadata": {
        "colab": {
          "base_uri": "https://localhost:8080/"
        },
        "id": "ke3T1a8vSaN3",
        "outputId": "17178f52-475f-48e4-cc52-b286c6172c68"
      },
      "execution_count": null,
      "outputs": [
        {
          "output_type": "stream",
          "name": "stdout",
          "text": [
            "127035954683\n"
          ]
        }
      ]
    },
    {
      "cell_type": "code",
      "source": [
        "# Combinatoric Selections 53\n",
        "import math\n",
        "\n",
        "def binomial_coeff(n, k):\n",
        "    return math.factorial(n) // (math.factorial(k) * math.factorial(n - k))\n",
        "\n",
        "\n",
        "ans = sum(1\n",
        "            for n in range(1, 101)\n",
        "              for k in range(0, n + 1)\n",
        "                if binomial_coeff(n, k) > 1000000)\n",
        "print(str(ans))"
      ],
      "metadata": {
        "colab": {
          "base_uri": "https://localhost:8080/"
        },
        "id": "WhDvBikeGcEM",
        "outputId": "d68c8cd4-028c-488f-ac5e-5930623a49d7"
      },
      "execution_count": null,
      "outputs": [
        {
          "output_type": "stream",
          "name": "stdout",
          "text": [
            "4075\n"
          ]
        }
      ]
    },
    {
      "cell_type": "code",
      "source": [
        "# Quadtree Encoding (a Simple Compression Algorithm) 287\n",
        "N = 24\n",
        "RADIUS_SQUARED = 2 ** (2 * N - 2)\n",
        "\n",
        "\n",
        "def compressed_length(xstart, xend, ystart, yend):\n",
        "    if xstart * xstart + ystart * ystart > RADIUS_SQUARED:\n",
        "        return 2\n",
        "    elif (xend - 1) * (xend - 1) + (yend - 1) * (yend - 1) <= RADIUS_SQUARED:\n",
        "        return 2\n",
        "    else:\n",
        "        xmid = (xstart + xend) // 2\n",
        "        ymid = (ystart + yend) // 2\n",
        "        return (1 +\n",
        "                compressed_length(xstart, xmid, ymid, yend) +  # Top left\n",
        "                compressed_length(xmid, xend, ymid, yend) +  # Top right\n",
        "                compressed_length(xstart, xmid, ystart, ymid) +  # Bottom left\n",
        "                compressed_length(xmid, xend, ystart, ymid))  # Bottom right\n",
        "\n",
        "\n",
        "temp = 2 ** (N - 1)\n",
        "result = 1 + \\\n",
        "         compressed_length(0, temp, 0, temp) + \\\n",
        "         compressed_length(0, temp, 1, temp + 1) + \\\n",
        "         compressed_length(1, temp + 1, 0, temp) + \\\n",
        "         compressed_length(1, temp + 1, 1, temp + 1)\n",
        "\n",
        "print(str(result))"
      ],
      "metadata": {
        "colab": {
          "base_uri": "https://localhost:8080/"
        },
        "id": "sJBpKqLmI6Mn",
        "outputId": "40732770-df41-44ca-f639-c72bc4f1a9cb"
      },
      "execution_count": null,
      "outputs": [
        {
          "output_type": "stream",
          "name": "stdout",
          "text": [
            "313135496\n"
          ]
        }
      ]
    },
    {
      "cell_type": "code",
      "source": [
        "NUMBERS = [\n",
        "\t37107287533902102798797998220837590246510135740250,\n",
        "\t46376937677490009712648124896970078050417018260538,\n",
        "\t74324986199524741059474233309513058123726617309629,\n",
        "\t91942213363574161572522430563301811072406154908250,\n",
        "\t23067588207539346171171980310421047513778063246676,\n",
        "\t89261670696623633820136378418383684178734361726757,\n",
        "\t28112879812849979408065481931592621691275889832738,\n",
        "\t44274228917432520321923589422876796487670272189318,\n",
        "\t47451445736001306439091167216856844588711603153276,\n",
        "\t70386486105843025439939619828917593665686757934951,\n",
        "\t62176457141856560629502157223196586755079324193331,\n",
        "\t64906352462741904929101432445813822663347944758178,\n",
        "\t92575867718337217661963751590579239728245598838407,\n",
        "\t58203565325359399008402633568948830189458628227828,\n",
        "\t80181199384826282014278194139940567587151170094390,\n",
        "\t35398664372827112653829987240784473053190104293586,\n",
        "\t86515506006295864861532075273371959191420517255829,\n",
        "\t71693888707715466499115593487603532921714970056938,\n",
        "\t54370070576826684624621495650076471787294438377604,\n",
        "\t53282654108756828443191190634694037855217779295145,\n",
        "\t36123272525000296071075082563815656710885258350721,\n",
        "\t45876576172410976447339110607218265236877223636045,\n",
        "\t17423706905851860660448207621209813287860733969412,\n",
        "\t81142660418086830619328460811191061556940512689692,\n",
        "\t51934325451728388641918047049293215058642563049483,\n",
        "\t62467221648435076201727918039944693004732956340691,\n",
        "\t15732444386908125794514089057706229429197107928209,\n",
        "\t55037687525678773091862540744969844508330393682126,\n",
        "\t18336384825330154686196124348767681297534375946515,\n",
        "\t80386287592878490201521685554828717201219257766954,\n",
        "\t78182833757993103614740356856449095527097864797581,\n",
        "\t16726320100436897842553539920931837441497806860984,\n",
        "\t48403098129077791799088218795327364475675590848030,\n",
        "\t87086987551392711854517078544161852424320693150332,\n",
        "\t59959406895756536782107074926966537676326235447210,\n",
        "\t69793950679652694742597709739166693763042633987085,\n",
        "\t41052684708299085211399427365734116182760315001271,\n",
        "\t65378607361501080857009149939512557028198746004375,\n",
        "\t35829035317434717326932123578154982629742552737307,\n",
        "\t94953759765105305946966067683156574377167401875275,\n",
        "\t88902802571733229619176668713819931811048770190271,\n",
        "\t25267680276078003013678680992525463401061632866526,\n",
        "\t36270218540497705585629946580636237993140746255962,\n",
        "\t24074486908231174977792365466257246923322810917141,\n",
        "\t91430288197103288597806669760892938638285025333403,\n",
        "\t34413065578016127815921815005561868836468420090470,\n",
        "\t23053081172816430487623791969842487255036638784583,\n",
        "\t11487696932154902810424020138335124462181441773470,\n",
        "\t63783299490636259666498587618221225225512486764533,\n",
        "\t67720186971698544312419572409913959008952310058822,\n",
        "\t95548255300263520781532296796249481641953868218774,\n",
        "\t76085327132285723110424803456124867697064507995236,\n",
        "\t37774242535411291684276865538926205024910326572967,\n",
        "\t23701913275725675285653248258265463092207058596522,\n",
        "\t29798860272258331913126375147341994889534765745501,\n",
        "\t18495701454879288984856827726077713721403798879715,\n",
        "\t38298203783031473527721580348144513491373226651381,\n",
        "\t34829543829199918180278916522431027392251122869539,\n",
        "\t40957953066405232632538044100059654939159879593635,\n",
        "\t29746152185502371307642255121183693803580388584903,\n",
        "\t41698116222072977186158236678424689157993532961922,\n",
        "\t62467957194401269043877107275048102390895523597457,\n",
        "\t23189706772547915061505504953922979530901129967519,\n",
        "\t86188088225875314529584099251203829009407770775672,\n",
        "\t11306739708304724483816533873502340845647058077308,\n",
        "\t82959174767140363198008187129011875491310547126581,\n",
        "\t97623331044818386269515456334926366572897563400500,\n",
        "\t42846280183517070527831839425882145521227251250327,\n",
        "\t55121603546981200581762165212827652751691296897789,\n",
        "\t32238195734329339946437501907836945765883352399886,\n",
        "\t75506164965184775180738168837861091527357929701337,\n",
        "\t62177842752192623401942399639168044983993173312731,\n",
        "\t32924185707147349566916674687634660915035914677504,\n",
        "\t99518671430235219628894890102423325116913619626622,\n",
        "\t73267460800591547471830798392868535206946944540724,\n",
        "\t76841822524674417161514036427982273348055556214818,\n",
        "\t97142617910342598647204516893989422179826088076852,\n",
        "\t87783646182799346313767754307809363333018982642090,\n",
        "\t10848802521674670883215120185883543223812876952786,\n",
        "\t71329612474782464538636993009049310363619763878039,\n",
        "\t62184073572399794223406235393808339651327408011116,\n",
        "\t66627891981488087797941876876144230030984490851411,\n",
        "\t60661826293682836764744779239180335110989069790714,\n",
        "\t85786944089552990653640447425576083659976645795096,\n",
        "\t66024396409905389607120198219976047599490197230297,\n",
        "\t64913982680032973156037120041377903785566085089252,\n",
        "\t16730939319872750275468906903707539413042652315011,\n",
        "\t94809377245048795150954100921645863754710598436791,\n",
        "\t78639167021187492431995700641917969777599028300699,\n",
        "\t15368713711936614952811305876380278410754449733078,\n",
        "\t40789923115535562561142322423255033685442488917353,\n",
        "\t44889911501440648020369068063960672322193204149535,\n",
        "\t41503128880339536053299340368006977710650566631954,\n",
        "\t81234880673210146739058568557934581403627822703280,\n",
        "\t82616570773948327592232845941706525094512325230608,\n",
        "\t22918802058777319719839450180888072429661980811197,\n",
        "\t77158542502016545090413245809786882778948721859617,\n",
        "\t72107838435069186155435662884062257473692284509516,\n",
        "\t20849603980134001723930671666823555245252804609722,\n",
        "\t53503534226472524250874054075591789781264330331690,\n",
        "]\n",
        "\n",
        "print(str(sum(NUMBERS))[ : 10])"
      ],
      "metadata": {
        "colab": {
          "base_uri": "https://localhost:8080/"
        },
        "id": "nx2mAJMmO7Q3",
        "outputId": "83ad86a7-cbb9-41d9-c945-6a766e0d6347"
      },
      "execution_count": null,
      "outputs": [
        {
          "output_type": "stream",
          "name": "stdout",
          "text": [
            "5537376230\n"
          ]
        }
      ]
    }
  ]
}