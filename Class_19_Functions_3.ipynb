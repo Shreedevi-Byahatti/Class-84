{
  "nbformat": 4,
  "nbformat_minor": 0,
  "metadata": {
    "colab": {
      "provenance": [],
      "include_colab_link": true
    },
    "kernelspec": {
      "name": "python3",
      "display_name": "Python 3"
    },
    "language_info": {
      "name": "python"
    }
  },
  "cells": [
    {
      "cell_type": "markdown",
      "metadata": {
        "id": "view-in-github",
        "colab_type": "text"
      },
      "source": [
        "<a href=\"https://colab.research.google.com/github/Shreedevi-Byahatti/Class-84/blob/main/Class_19_Functions_3.ipynb\" target=\"_parent\"><img src=\"https://colab.research.google.com/assets/colab-badge.svg\" alt=\"Open In Colab\"/></a>"
      ]
    },
    {
      "cell_type": "code",
      "metadata": {
        "id": "kYbHc2d4Mn92"
      },
      "source": [
        "# We have already learnt about functions in different ways. We already know basics of functions.\n",
        "# Their basic two types:\n",
        "# 1. Inbuilt functions.\n",
        "# 2. User-defined functions.\n",
        "\n",
        "# We have learnt about keyword arguments, default parameters and made programs in it."
      ],
      "execution_count": null,
      "outputs": []
    },
    {
      "cell_type": "code",
      "metadata": {
        "colab": {
          "base_uri": "https://localhost:8080/"
        },
        "id": "LjcDrjIKQt_o",
        "outputId": "5f8a1b70-0557-4ce3-e718-d43312d28c54"
      },
      "source": [
        "# Now we will learn about Arbitrary Arguments.\n",
        "# If you do not know how many arguments that will be passed into your function,\n",
        "# add a * before the parameter name in the function definition.\n",
        "# This way the function will receive a tuple of arguments, and can access the items accordingly.\n",
        "\n",
        "def names(*students): # Because we don't know how many arguments are passed or we don't want to write all of them.\n",
        "                      # We can take a variable with * in starting then find the arguments just like tuple.\n",
        "                      # It is immutable can't be changed. We can't change value in students.\n",
        "  print(\"The second student is\", students[1])\n",
        "\n",
        "names(\"Akash\",\"Shruti\",\"Divya\",\"Subhash\")\n"
      ],
      "execution_count": null,
      "outputs": [
        {
          "output_type": "stream",
          "text": [
            "The second student is Shruti\n"
          ],
          "name": "stdout"
        }
      ]
    },
    {
      "cell_type": "code",
      "metadata": {
        "id": "kgtuFhnBWGBR"
      },
      "source": [
        "# Variable Scope\n",
        "# Now we will learn about another very important concept and it is about variable scope.\n",
        "# So basically we will that what is the range of variable in which it functions.\n",
        "\n",
        "# Firstly we will learn about Global Variable.\n",
        "# Global Variables are the variables which are defined outside the function and hence are called as Global.\n",
        "# Hence they can be used inside the function as well as outside it.\n",
        ""
      ],
      "execution_count": null,
      "outputs": []
    },
    {
      "cell_type": "code",
      "metadata": {
        "id": "2UJjk15unLWS"
      },
      "source": [
        "greeting=\"Welcome\" # Here we have defined a global variable greeting with value \"Welcome\" in it.\n",
        "\n",
        "def myfunction():\n",
        "  print(\"Bright Champ\", greeting) # Here we have used the variable greeting inside the function.\n",
        "\n",
        "\n",
        "myfunction()\n",
        "\n",
        "print(greeting, \"to Bright Champ\") # Here we have used the variable greeting outside the function."
      ],
      "execution_count": null,
      "outputs": []
    },
    {
      "cell_type": "code",
      "metadata": {
        "colab": {
          "base_uri": "https://localhost:8080/"
        },
        "id": "ZjTvZ0YenZau",
        "outputId": "c7a316ed-92a9-4676-8606-ff6aa90777f9"
      },
      "source": [
        "# Now we will try to understand the meaning of Local variable so we will change the value of variable inside the function.\n",
        "\n",
        "greeting=\"Welcome\" # Here we have defined a global variable greeting with value \"Welcome\" in it.\n",
        "\n",
        "def myfunction():\n",
        "  greeting=\"is awesome\" # Here we have changed the value of greeting function.\n",
        "  print(\"Bright Champ\", greeting) # Here we have used the variable greeting\n",
        "                                  # inside the function and it is using the value of greeting\n",
        "                                  # which is given inside the function.\n",
        "\n",
        "myfunction() # Calling the function.\n",
        "\n",
        "print(greeting, \"to Bright Champ\") # Here we have used the variable greeting outside the function.\n"
      ],
      "execution_count": null,
      "outputs": [
        {
          "output_type": "stream",
          "text": [
            "Bright Champ is awesome\n",
            "Welcome to Bright Champ\n"
          ],
          "name": "stdout"
        }
      ]
    },
    {
      "cell_type": "code",
      "metadata": {
        "id": "Gz1pzyU5pW8i"
      },
      "source": [
        "# So from the previous program we learnt that the Global Variable can be accessed by all the functions\n",
        "# but if we will change the value of same variable inside the function the value of that variable will change for that function.\n"
      ],
      "execution_count": null,
      "outputs": []
    },
    {
      "cell_type": "code",
      "metadata": {
        "colab": {
          "base_uri": "https://localhost:8080/",
          "height": 212
        },
        "id": "W2ZRKuO-tLIz",
        "outputId": "21824098-6e05-4e48-b5ac-90e07a3425a5"
      },
      "source": [
        "# Let's say we want to use the variable defined inside the function to some other place outside the function.\n",
        "# It will show an error.\n",
        "\n",
        "def name():\n",
        "  lname=\"Singh\" # Defining variable inside function.\n",
        "  print(lname)\n",
        "\n",
        "name()\n",
        "print(lname) # This will show an error because the variable is defined locally and accessed globally."
      ],
      "execution_count": null,
      "outputs": [
        {
          "output_type": "stream",
          "text": [
            "Diksha\n"
          ],
          "name": "stdout"
        },
        {
          "output_type": "error",
          "ename": "NameError",
          "evalue": "ignored",
          "traceback": [
            "\u001b[0;31m---------------------------------------------------------------------------\u001b[0m",
            "\u001b[0;31mNameError\u001b[0m                                 Traceback (most recent call last)",
            "\u001b[0;32m<ipython-input-10-80f8ad22a02a>\u001b[0m in \u001b[0;36m<module>\u001b[0;34m()\u001b[0m\n\u001b[1;32m      5\u001b[0m \u001b[0;34m\u001b[0m\u001b[0m\n\u001b[1;32m      6\u001b[0m \u001b[0mname\u001b[0m\u001b[0;34m(\u001b[0m\u001b[0;34m)\u001b[0m\u001b[0;34m\u001b[0m\u001b[0;34m\u001b[0m\u001b[0m\n\u001b[0;32m----> 7\u001b[0;31m \u001b[0mprint\u001b[0m\u001b[0;34m(\u001b[0m\u001b[0mlname\u001b[0m\u001b[0;34m)\u001b[0m\u001b[0;34m\u001b[0m\u001b[0;34m\u001b[0m\u001b[0m\n\u001b[0m",
            "\u001b[0;31mNameError\u001b[0m: name 'lname' is not defined"
          ]
        }
      ]
    },
    {
      "cell_type": "code",
      "metadata": {
        "colab": {
          "base_uri": "https://localhost:8080/"
        },
        "id": "8E7YJFVuqJW6",
        "outputId": "ba1f0de1-6a63-4c47-a2b0-afc9bc7dde72"
      },
      "source": [
        "# Let's solve the problem defined in above case.\n",
        "# In case where we defined the value inside a function but we want to access it globally.\n",
        "# For that we have to define the variable with keyword global\n",
        "\n",
        "def name():\n",
        "  global fname\n",
        "  fname=\"Diksha\"\n",
        "  print(fname)\n",
        "\n",
        "name()\n",
        "print(fname)"
      ],
      "execution_count": null,
      "outputs": [
        {
          "output_type": "stream",
          "text": [
            "Diksha\n",
            "Diksha\n"
          ],
          "name": "stdout"
        }
      ]
    },
    {
      "cell_type": "code",
      "metadata": {
        "id": "Nw08fF8HuH8k"
      },
      "source": [
        "# Teacher can give analogy to students that like we use Sim Cards which we buy locally\n",
        "# works only in our country but if we want to use Sim which can work all over the world\n",
        "# we will have to use the global sim card and just in case we want our local sim card to work\n",
        "# globally we will have to change our local one to global one using 'global' keyword that's scope."
      ],
      "execution_count": null,
      "outputs": []
    },
    {
      "cell_type": "code",
      "metadata": {
        "colab": {
          "base_uri": "https://localhost:8080/"
        },
        "id": "BTnKfxwGu1dr",
        "outputId": "8e6fe3c7-e621-4865-bef0-bc08c4629497"
      },
      "source": [
        "# Now we will learn about anonymous functions as called as lambda functions.\n",
        "# A lambda function is a small anonymous function.\n",
        "# A lambda function can take any number of arguments, but can only have one expression.\n",
        "\n",
        "y = lambda x : x * 10\n",
        "\n",
        "print(y(5))"
      ],
      "execution_count": null,
      "outputs": [
        {
          "output_type": "stream",
          "text": [
            "50\n"
          ],
          "name": "stdout"
        }
      ]
    },
    {
      "cell_type": "code",
      "metadata": {
        "colab": {
          "base_uri": "https://localhost:8080/"
        },
        "id": "mPzDo2OwDWxt",
        "outputId": "cd742dd6-2264-4780-8e66-88f4598f3977"
      },
      "source": [
        "y = lambda m,n,o: m*n*o\n",
        "\n",
        "print(y(2,3,4))"
      ],
      "execution_count": null,
      "outputs": [
        {
          "output_type": "stream",
          "text": [
            "24\n"
          ],
          "name": "stdout"
        }
      ]
    },
    {
      "cell_type": "code",
      "metadata": {
        "id": "aX0QaQD2aVG-"
      },
      "source": [
        "# The coming concepts could be tough for few students teachers are suggested to not go in so much of detail\n",
        "# and only tell applications.\n"
      ],
      "execution_count": null,
      "outputs": []
    },
    {
      "cell_type": "code",
      "metadata": {
        "colab": {
          "base_uri": "https://localhost:8080/"
        },
        "id": "-E2R3g-KgP2S",
        "outputId": "79ce51e1-6e31-4636-d1b5-88ac55812ae1"
      },
      "source": [
        "# The real use of lambda function is it is used as an anonymous function into other function.\n",
        "# Let's say we want to make a function which multiplies the number by three.\n",
        "\n",
        "def midfunction(num):\n",
        "    return lambda x : x * num\n",
        "\n",
        "result = midfunction(3) # result is further calling the midfunction and it is telling to multiply with 3.\n",
        "\n",
        "print(result(9)) # Here we are calling the function with using variable result and argument 9.\n"
      ],
      "execution_count": null,
      "outputs": [
        {
          "output_type": "stream",
          "text": [
            "27\n"
          ],
          "name": "stdout"
        }
      ]
    },
    {
      "cell_type": "code",
      "metadata": {
        "colab": {
          "base_uri": "https://localhost:8080/"
        },
        "id": "JqHPpaSEhw4A",
        "outputId": "421e1eef-b94c-45b2-9b01-ed8bc6b608d7"
      },
      "source": [
        "# We can also use filter and map inbuilt function along with lambda function.\n",
        "# 1. filter() function. Its syntax is: filter(object,iterable). About object you will learn later and iterable here means the list.\n",
        "\n",
        "numbers_list = [2, 6, 8, 10, 11, 4, 12, 7, 13, 17, 0, 3, 21]\n",
        "\n",
        "filtered_list = list(filter(lambda num: (num > 10), numbers_list)) # Here we have written the code such that it will find all number > 10\n",
        "                                                                  # which will check True or False and then it will save those numbers in list.\n",
        "                                                                  # Here inside map the first part defines condition,\n",
        "                                                                  # other part contains list on which we have to do operation.\n",
        "\n",
        "print(filtered_list)\n"
      ],
      "execution_count": null,
      "outputs": [
        {
          "output_type": "stream",
          "text": [
            "[11, 12, 13, 17, 21]\n"
          ],
          "name": "stdout"
        }
      ]
    },
    {
      "cell_type": "code",
      "metadata": {
        "colab": {
          "base_uri": "https://localhost:8080/"
        },
        "id": "7j4Z8Ouyi2UB",
        "outputId": "2e9f773f-cd28-48d4-d95c-1a3accc05906"
      },
      "source": [
        "# 2. map() function: Its syntax is : map(object, iterable1, iterable2, ...)\n",
        "# Here in this code it finds the reminder of numbers when divided by 4.\n",
        "\n",
        "numbers_list = [2, 6, 8, 10, 11, 4, 12, 7, 13, 17, 0, 3, 21]\n",
        "\n",
        "mapped_list = list(map(lambda num: num % 4, numbers_list)) # The map function basically maps every item\n",
        "                                                           # in the output on the basis of condition defined.\n",
        "                                                           # Here inside map the first part defines condition,\n",
        "                                                           # other part contains list on which we have to do operation.\n",
        "print(mapped_list)"
      ],
      "execution_count": null,
      "outputs": [
        {
          "output_type": "stream",
          "text": [
            "[2, 2, 0, 2, 3, 0, 0, 3, 1, 1, 0, 3, 1]\n"
          ],
          "name": "stdout"
        }
      ]
    },
    {
      "cell_type": "code",
      "metadata": {
        "colab": {
          "base_uri": "https://localhost:8080/"
        },
        "id": "mGhYqb0En9Oc",
        "outputId": "3d023791-0a48-4eb7-a75d-d55cdba54340"
      },
      "source": [
        "# Class Assignment: Define a global variable vehicle with value Bike and then make a\n",
        "# function to convert the speed from km/hr to m/sec and then define value of newspeed by global keyword\n",
        "# so that we can print the value of newspeed later on. Try to define vehicle variable locally with car and print it.\n",
        "# Teacher need to give proper guidance to make local and global variable clear.\n",
        "\n",
        "vehicle=\"Bike\"\n",
        "\n",
        "def kmhtomsec(speed):\n",
        "  vehicle=\"Car\"\n",
        "  global newspeed\n",
        "  newspeed=speed*5/18\n",
        "  print(\"The speed of\",vehicle,newspeed)\n",
        "\n",
        "speed = 90\n",
        "\n",
        "kmhtomsec(speed)\n",
        "print(\"The speed of\",vehicle,newspeed)\n",
        "\n",
        "\n"
      ],
      "execution_count": null,
      "outputs": [
        {
          "output_type": "stream",
          "text": [
            "The speed of Car 25.0\n",
            "The speed of Bike 25.0\n"
          ],
          "name": "stdout"
        }
      ]
    },
    {
      "cell_type": "code",
      "metadata": {
        "colab": {
          "base_uri": "https://localhost:8080/"
        },
        "id": "ZW6bMpxis0If",
        "outputId": "7b0e4234-4ebc-43ed-80fd-9e197bc9551c"
      },
      "source": [
        "# Homework Assignment:\n",
        "# 1. Make a function adding two numbers using lambda.\n",
        "# 2. Use map function to find all odd or even numbers of list. Print 0 for odd and 1 for even.\n",
        "\n",
        "def midfunction(num):\n",
        "    return lambda x : x + num\n",
        "\n",
        "addition = midfunction(5) # result is further calling the midfunction and it is telling to multiply with 3.\n",
        "\n",
        "print(addition(13)) # Here we are calling the function with using variable result and argument 9.\n",
        "\n",
        "\n",
        "\n",
        "\n",
        "\n",
        "numbers_list = [2, 6, 8, 10, 11, 4, 12, 7, 13, 17, 0, 3, 21]\n",
        "\n",
        "filtered_list = list(map(lambda num: num % 2, numbers_list))\n",
        "\n",
        "print(filtered_list)"
      ],
      "execution_count": null,
      "outputs": [
        {
          "output_type": "stream",
          "text": [
            "18\n",
            "[0, 0, 0, 0, 1, 0, 0, 1, 1, 1, 0, 1, 1]\n"
          ],
          "name": "stdout"
        }
      ]
    }
  ]
}