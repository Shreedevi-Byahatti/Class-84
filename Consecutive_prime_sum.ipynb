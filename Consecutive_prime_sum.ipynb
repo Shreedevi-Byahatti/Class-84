{
  "nbformat": 4,
  "nbformat_minor": 0,
  "metadata": {
    "colab": {
      "provenance": [],
      "include_colab_link": true
    },
    "kernelspec": {
      "name": "python3",
      "display_name": "Python 3"
    },
    "language_info": {
      "name": "python"
    }
  },
  "cells": [
    {
      "cell_type": "markdown",
      "metadata": {
        "id": "view-in-github",
        "colab_type": "text"
      },
      "source": [
        "<a href=\"https://colab.research.google.com/github/Shreedevi-Byahatti/Class-84/blob/main/Consecutive_prime_sum.ipynb\" target=\"_parent\"><img src=\"https://colab.research.google.com/assets/colab-badge.svg\" alt=\"Open In Colab\"/></a>"
      ]
    },
    {
      "cell_type": "code",
      "execution_count": null,
      "metadata": {
        "colab": {
          "base_uri": "https://localhost:8080/"
        },
        "id": "ILpw7H40vgs8",
        "outputId": "b40a8e6b-a37c-47cb-b513-390cc724818e"
      },
      "outputs": [
        {
          "output_type": "stream",
          "name": "stdout",
          "text": [
            "997651\n"
          ]
        }
      ],
      "source": [
        "# Consecutive prime sum 50\n",
        "# Function to check if a number is prime\n",
        "def is_prime(num):\n",
        "    if num < 2:\n",
        "        return False\n",
        "    for i in range(2, int(num**0.5) + 1):\n",
        "        if num % i == 0:\n",
        "            return False\n",
        "    return True\n",
        "\n",
        "# Function to generate a list of prime numbers up to a given limit\n",
        "def generate_primes(limit):\n",
        "    primes = []\n",
        "    for num in range(2, limit):\n",
        "        if is_prime(num):\n",
        "            primes.append(num)\n",
        "    return primes\n",
        "\n",
        "# Function to check the length of consecutive primes that sum to a prime number\n",
        "def check_length(n, below, prime_list):\n",
        "    max_prime = 0\n",
        "    for x in range(0, below):\n",
        "        total = sum(prime_list[x:x+n])\n",
        "        if total > below:\n",
        "            break\n",
        "        if is_prime(total):\n",
        "            max_prime = total\n",
        "    return max_prime\n",
        "\n",
        "MAX = 5000\n",
        "prime_list = generate_primes(MAX)\n",
        "\n",
        "for n in range(1000, 0, -1):\n",
        "    max_prime = check_length(n, 1000000, prime_list)\n",
        "    if max_prime:\n",
        "        print(max_prime)\n",
        "        break"
      ]
    },
    {
      "cell_type": "code",
      "source": [
        "# 10001st Prime 7\n",
        "# You can reuse this function from previous problem\n",
        "def is_prime(num):\n",
        "    if num < 2:\n",
        "        return False\n",
        "    for i in range(2, int(num**0.5) + 1):\n",
        "        if num % i == 0:\n",
        "            return False\n",
        "    return True\n",
        "\n",
        "# You can reuse this function from previous problem\n",
        "def generate_primes(limit):\n",
        "    primes = []\n",
        "    for num in range(2, limit):\n",
        "        if is_prime(num):\n",
        "            primes.append(num)\n",
        "    return primes\n",
        "\n",
        "def find_nth_prime(n):\n",
        "    primes = []\n",
        "    num = 2\n",
        "    while len(primes) < n:\n",
        "        if is_prime(num):\n",
        "            primes.append(num)\n",
        "        num += 1\n",
        "    return primes[n - 1]\n",
        "\n",
        "# Finding the 10,001st prime number\n",
        "n = 10001\n",
        "result = find_nth_prime(n)\n",
        "print(f\"The {n}st prime number is: {result}\")"
      ],
      "metadata": {
        "colab": {
          "base_uri": "https://localhost:8080/"
        },
        "id": "DBZoFDsxky4o",
        "outputId": "e7cabf55-94da-40a5-c61d-727a30b6189d"
      },
      "execution_count": null,
      "outputs": [
        {
          "output_type": "stream",
          "name": "stdout",
          "text": [
            "The 10001st prime number is: 104743\n"
          ]
        }
      ]
    },
    {
      "cell_type": "code",
      "source": [
        "# Summation of Primes 10\n",
        "sieve_length = 2000000\n",
        "sieve = [True] * sieve_length\n",
        "\n",
        "def mark(sieve, x):\n",
        "    for i in range(x + x, len(sieve), x):\n",
        "        sieve[i] = False\n",
        "\n",
        "for x in range(2, int(len(sieve) ** 0.5) + 1):\n",
        "    if sieve[x]:\n",
        "        mark(sieve, x)\n",
        "\n",
        "print(sum(i for i in range(2, len(sieve)) if sieve[i]))"
      ],
      "metadata": {
        "colab": {
          "base_uri": "https://localhost:8080/"
        },
        "id": "a-gXaAWJlA0Y",
        "outputId": "24b0eb0a-0096-43be-fe26-b347e03eb966"
      },
      "execution_count": null,
      "outputs": [
        {
          "output_type": "stream",
          "name": "stdout",
          "text": [
            "142913828922\n"
          ]
        }
      ]
    },
    {
      "cell_type": "code",
      "source": [
        "# Highly Divisible Triangular Number 12\n",
        "def calculate_num_factors(num):\n",
        "    count = 0\n",
        "    for i in range(1, int(num ** 0.5) + 1):\n",
        "        if num % i == 0:\n",
        "            count += 2\n",
        "\n",
        "    if int(num ** 0.5) ** 2 == num:\n",
        "        count -= 1\n",
        "    return count\n",
        "\n",
        "for i in range(1, 1000000000):\n",
        "    n = i * (i + 1) // 2\n",
        "    if calculate_num_factors(n) > 500:\n",
        "        print(n)\n",
        "        break"
      ],
      "metadata": {
        "colab": {
          "base_uri": "https://localhost:8080/"
        },
        "id": "Uht7TPjnl6CV",
        "outputId": "baef21c1-e96c-4257-d478-ce982b989dec"
      },
      "execution_count": null,
      "outputs": [
        {
          "output_type": "stream",
          "name": "stdout",
          "text": [
            "76576500\n"
          ]
        }
      ]
    },
    {
      "cell_type": "code",
      "source": [
        "#  Longest Collatz Sequence 14\n",
        "cache = {1: 1}\n",
        "\n",
        "def chain(cache, n):\n",
        "    if not cache.get(n, 0):\n",
        "        if n % 2:\n",
        "            cache[n] = 1 + chain(cache, 3 * n + 1)\n",
        "        else:\n",
        "            cache[n] = 1 + chain(cache, n // 2)\n",
        "    return cache[n]\n",
        "\n",
        "m, n = 0, 0\n",
        "\n",
        "for i in range(1, 1000000):\n",
        "    c = chain(cache, i)\n",
        "    if c > m:\n",
        "        m, n = c, i\n",
        "print(n)"
      ],
      "metadata": {
        "colab": {
          "base_uri": "https://localhost:8080/"
        },
        "id": "7cwYWFx8l_BQ",
        "outputId": "1de9641e-3dbd-43a7-fe0d-7ac0694d2e33"
      },
      "execution_count": null,
      "outputs": [
        {
          "output_type": "stream",
          "name": "stdout",
          "text": [
            "837799\n"
          ]
        }
      ]
    },
    {
      "cell_type": "code",
      "source": [
        "# Quadratic Primes 27\n",
        "# You can reuse this function from previous problem\n",
        "def is_prime(num):\n",
        "    if num < 2:\n",
        "        return False\n",
        "    for i in range(2, int(num**0.5) + 1):\n",
        "        if num % i == 0:\n",
        "            return False\n",
        "    return True\n",
        "max_pair = (0, 0, 0)\n",
        "\n",
        "for a in range(-999, 1000):\n",
        "    for b in range(max(2, 1 - a), 1000):\n",
        "        n, count = 0, 0\n",
        "        while True:\n",
        "            v = n * n + a * n + b\n",
        "            if is_prime(v):\n",
        "                count += 1\n",
        "            else:\n",
        "                break\n",
        "            n += 1\n",
        "        if count > max_pair[2]:\n",
        "            max_pair = (a, b, count)\n",
        "\n",
        "print(max_pair[0] * max_pair[1])"
      ],
      "metadata": {
        "colab": {
          "base_uri": "https://localhost:8080/"
        },
        "id": "VsJpxIygmMRL",
        "outputId": "301b13a1-cd5a-4cf5-bb5c-929fa026402c"
      },
      "execution_count": null,
      "outputs": [
        {
          "output_type": "stream",
          "name": "stdout",
          "text": [
            "-59231\n"
          ]
        }
      ]
    }
  ]
}