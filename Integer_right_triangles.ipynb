{
  "nbformat": 4,
  "nbformat_minor": 0,
  "metadata": {
    "colab": {
      "provenance": [],
      "include_colab_link": true
    },
    "kernelspec": {
      "name": "python3",
      "display_name": "Python 3"
    },
    "language_info": {
      "name": "python"
    }
  },
  "cells": [
    {
      "cell_type": "markdown",
      "metadata": {
        "id": "view-in-github",
        "colab_type": "text"
      },
      "source": [
        "<a href=\"https://colab.research.google.com/github/Shreedevi-Byahatti/Class-84/blob/main/Integer_right_triangles.ipynb\" target=\"_parent\"><img src=\"https://colab.research.google.com/assets/colab-badge.svg\" alt=\"Open In Colab\"/></a>"
      ]
    },
    {
      "cell_type": "code",
      "execution_count": null,
      "metadata": {
        "colab": {
          "base_uri": "https://localhost:8080/"
        },
        "id": "ZXIsCEMJyqkc",
        "outputId": "bbfacb4e-35df-4930-a355-2cb840406fd6"
      },
      "outputs": [
        {
          "output_type": "stream",
          "name": "stdout",
          "text": [
            "840\n",
            "8\n"
          ]
        }
      ],
      "source": [
        "# Integer right triangles 39\n",
        "maxp, maxsol = 0, 0\n",
        "\n",
        "for p in range(12, 1001, 2):\n",
        "    solutions = 0\n",
        "    for a in range(1, p//3):\n",
        "        a2 = a*a\n",
        "        for b in range(a, (p-a)//2):\n",
        "            c = p - a - b\n",
        "            if a2 + b*b == c*c:\n",
        "                solutions += 1\n",
        "    if solutions > maxsol:\n",
        "        maxp, maxsol = p, solutions\n",
        "\n",
        "print(maxp)\n",
        "print(maxsol)"
      ]
    },
    {
      "cell_type": "code",
      "source": [
        "# Singular Integer Right Triangles 75\n",
        "import math\n",
        "\n",
        "def count_single_triangles(limit):\n",
        "    triangle_counts = [0] * limit\n",
        "\n",
        "    for i in range(1, int(math.sqrt(limit)), 2):\n",
        "        for j in range(2, int(sqrt(limit)) - i, 2):\n",
        "            if math.gcd(i, j) == 1:\n",
        "                perimeter = abs(j * j - i * i) + 2 * i * j + i * i + j * j\n",
        "                for s in range(perimeter, limit, perimeter):\n",
        "                    triangle_counts[s] += 1\n",
        "\n",
        "    return triangle_counts.count(1)\n",
        "\n",
        "limit = 1500000\n",
        "result = count_single_triangles(limit)\n",
        "print(\"The number of unique integer-sided right-angled triangles with a perimeter not exceeding\", limit, \"is:\", result)\n"
      ],
      "metadata": {
        "colab": {
          "base_uri": "https://localhost:8080/"
        },
        "id": "vWB8OeTUsoOT",
        "outputId": "86549de6-e62b-4cf5-83ad-67686d684543"
      },
      "execution_count": null,
      "outputs": [
        {
          "output_type": "stream",
          "name": "stdout",
          "text": [
            "The number of unique integer-sided right-angled triangles with a perimeter not exceeding 67 is: 7\n"
          ]
        }
      ]
    },
    {
      "cell_type": "code",
      "source": [
        "# Self Powers 48\n",
        "s = 0\n",
        "mod = pow(10, 10)\n",
        "for x in range(1, 1001):\n",
        "    s = s + pow(x, x)\n",
        "\n",
        "print(s % mod)"
      ],
      "metadata": {
        "colab": {
          "base_uri": "https://localhost:8080/"
        },
        "id": "2-R_ZLJusWtQ",
        "outputId": "024aa7e2-dc77-4acb-c15a-169272514184"
      },
      "execution_count": null,
      "outputs": [
        {
          "output_type": "stream",
          "name": "stdout",
          "text": [
            "9110846700\n"
          ]
        }
      ]
    },
    {
      "cell_type": "code",
      "source": [
        "# Champernowne's Constant 40\n",
        "def digit_at(n):\n",
        "    digits = 1\n",
        "    n = n - 1\n",
        "    while True:A\n",
        "        numbers = 9 * 10**(digits - 1) * digits\n",
        "        if n > numbers:\n",
        "            n = n - numbers\n",
        "        else:\n",
        "            break\n",
        "        digits = digits + 1\n",
        "    num = n // digits + 10**(digits - 1)\n",
        "    return int(str(num)[n % digits])\n",
        "\n",
        "result = 1\n",
        "indices = [1, 10, 100, 1000, 10000, 100000, 1000000]\n",
        "\n",
        "for index in indices:\n",
        "    result *= digit_at(index)\n",
        "\n",
        "print(result)"
      ],
      "metadata": {
        "colab": {
          "base_uri": "https://localhost:8080/"
        },
        "id": "lorLxd7VsW0_",
        "outputId": "3b216505-6423-465b-b841-cde4cec13d13"
      },
      "execution_count": null,
      "outputs": [
        {
          "output_type": "stream",
          "name": "stdout",
          "text": [
            "210\n"
          ]
        }
      ]
    },
    {
      "cell_type": "code",
      "source": [
        "# Convergents of e 65\n",
        "# Initialize variables\n",
        "limit = 100\n",
        "current = 1457\n",
        "previous = 1264\n",
        "previous2 = 0\n",
        "multiple = 8\n",
        "\n",
        "# Iterate to find the 100th convergent\n",
        "for i in range(11, limit + 1):\n",
        "    previous2 = previous\n",
        "    previous = current\n",
        "\n",
        "    if i % 3 == 0:\n",
        "        current = previous * multiple + previous2\n",
        "        multiple += 2\n",
        "    else:\n",
        "        current = previous + previous2\n",
        "\n",
        "# Calculate the sum of digits in the numerator\n",
        "digit_sum = sum(int(digit) for digit in str(current))\n",
        "\n",
        "# Print the result\n",
        "print(\"The sum of digits in the numerator of the 100th convergent is:\", digit_sum)"
      ],
      "metadata": {
        "colab": {
          "base_uri": "https://localhost:8080/"
        },
        "id": "gg5OVAhxx4b9",
        "outputId": "c35c033f-2d82-4ece-92f6-13b8748d5533"
      },
      "execution_count": null,
      "outputs": [
        {
          "output_type": "stream",
          "name": "stdout",
          "text": [
            "The sum of digits in the numerator of the 100th convergent is: 272\n"
          ]
        }
      ]
    },
    {
      "cell_type": "code",
      "source": [
        "# Perfect Square Collection 142\n",
        "def isSquare(x):\n",
        "    return (int(x ** 0.5) ** 2 == x)\n",
        "\n",
        "solved = False\n",
        "i = 4\n",
        "while solved == False:\n",
        "    a = i ** 2\n",
        "\n",
        "    for j in range(3,i):\n",
        "        if(solved):\n",
        "            break\n",
        "\n",
        "        c = j ** 2\n",
        "        f = a - c\n",
        "        if(isSquare(f) == False):\n",
        "            continue\n",
        "\n",
        "        k_initial = 1\n",
        "\n",
        "        if(j%2 == 0):\n",
        "            k_initial = 2\n",
        "\n",
        "        for k in range(k_initial,j,2):\n",
        "            d = k ** 2\n",
        "            e = a - d\n",
        "            b = c - e\n",
        "\n",
        "            if(b <= 0 or isSquare(e) == False or isSquare(b) == False):\n",
        "                continue\n",
        "\n",
        "            x = int((a + b) / 2)\n",
        "            y = int((e + f) / 2)\n",
        "            z = (c - d) / 2\n",
        "            result = x + y + z\n",
        "            print(\"{} + {} + {} = {}\".format(x,y,z,result))\n",
        "\n",
        "            solved = True\n",
        "            break\n",
        "\n",
        "    i = i + 1"
      ],
      "metadata": {
        "id": "gBTqvUQ2zdZw",
        "outputId": "ad3d806a-519c-48ed-85b6-c6a9cf5dd9ee",
        "colab": {
          "base_uri": "https://localhost:8080/"
        }
      },
      "execution_count": null,
      "outputs": [
        {
          "output_type": "stream",
          "name": "stdout",
          "text": [
            "434657 + 420968 + 150568.0 = 1006193.0\n"
          ]
        }
      ]
    }
  ]
}