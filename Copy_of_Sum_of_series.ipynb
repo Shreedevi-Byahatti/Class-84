{
  "nbformat": 4,
  "nbformat_minor": 0,
  "metadata": {
    "colab": {
      "provenance": [],
      "include_colab_link": true
    },
    "kernelspec": {
      "name": "python3",
      "display_name": "Python 3"
    },
    "language_info": {
      "name": "python"
    }
  },
  "cells": [
    {
      "cell_type": "markdown",
      "metadata": {
        "id": "view-in-github",
        "colab_type": "text"
      },
      "source": [
        "<a href=\"https://colab.research.google.com/github/Shreedevi-Byahatti/Class-84/blob/main/Copy_of_Sum_of_series.ipynb\" target=\"_parent\"><img src=\"https://colab.research.google.com/assets/colab-badge.svg\" alt=\"Open In Colab\"/></a>"
      ]
    },
    {
      "cell_type": "code",
      "source": [
        "# Define a function to calculate the sum of a geometric series\n",
        "def geometric_series_sum(a, r, n):\n",
        "\n",
        "    if r == 1:\n",
        "        return a * n\n",
        "    else:\n",
        "        return a * (1 - r ** n) / (1 - r)\n",
        "\n",
        "# Input values\n",
        "a = 1.0  # First term\n",
        "r = 0.5  # Common ratio\n",
        "n = 5    # Number of terms\n",
        "\n",
        "# Calculate the sum of the geometric series\n",
        "sum_result = geometric_series_sum(a, r, n)\n",
        "\n",
        "# Print the result\n",
        "print(\"Sum of the geometric series:\", sum_result)\n"
      ],
      "metadata": {
        "colab": {
          "base_uri": "https://localhost:8080/"
        },
        "id": "NTV81VZD01Q0",
        "outputId": "a9d57df9-45a6-49d8-e7d2-bf6ff2182d93"
      },
      "execution_count": null,
      "outputs": [
        {
          "output_type": "stream",
          "name": "stdout",
          "text": [
            "Sum of the geometric series: 1.9375\n"
          ]
        }
      ]
    },
    {
      "cell_type": "code",
      "source": [],
      "metadata": {
        "id": "QxrrZW0FIJfD"
      },
      "execution_count": null,
      "outputs": []
    },
    {
      "cell_type": "code",
      "source": [
        "# Calculate 2^1000\n",
        "result = 2 ** 1000\n",
        "\n",
        "# Convert the result to a string to work with individual digits\n",
        "result_str = str(result)\n",
        "\n",
        "# Calculate the sum of the digits\n",
        "digit_sum = sum(int(digit) for digit in result_str)\n",
        "\n",
        "print(\"The power digit sum of 2^1000 is:\", digit_sum)\n",
        "\n"
      ],
      "metadata": {
        "colab": {
          "base_uri": "https://localhost:8080/"
        },
        "id": "2R4d4QCQFXDE",
        "outputId": "258abd61-3c67-4a3b-f08b-0a126bdf0ec7"
      },
      "execution_count": null,
      "outputs": [
        {
          "output_type": "stream",
          "name": "stdout",
          "text": [
            "The power digit sum of 2^1000 is: 1366\n"
          ]
        }
      ]
    },
    {
      "cell_type": "code",
      "source": [
        "# Import math library to get sqrt\n",
        "import math\n",
        "def isPrime(num):\n",
        "    for i in range(2,int(math.sqrt(num))+1):\n",
        "        if (num % i == 0):\n",
        "            return False\n",
        "\n",
        "    return True\n",
        "\n",
        "sum = 0\n",
        "for i in range(2,2000000):\n",
        "    if isPrime(i):\n",
        "        sum += i\n",
        "\n",
        "print('The sum of all primes below 2 million is: ' + str(sum))"
      ],
      "metadata": {
        "colab": {
          "base_uri": "https://localhost:8080/"
        },
        "id": "KEK-HKj_ULD-",
        "outputId": "cfcf7c0c-7417-47c4-9e00-a9ad0461eecb"
      },
      "execution_count": null,
      "outputs": [
        {
          "output_type": "stream",
          "name": "stdout",
          "text": [
            "The sum of all primes below 2 million is: 142913828922\n"
          ]
        }
      ]
    },
    {
      "cell_type": "code",
      "source": [
        "def power_digit_sum(base, exponent):\n",
        "    result = base ** exponent\n",
        "    digit_sum = sum(int(digit) for digit in str(result))\n",
        "    return digit_sum\n",
        "\n",
        "base = 2\n",
        "exponent = 1000\n",
        "result = power_digit_sum(base, exponent)\n",
        "print(f\"The sum of the digits of {base}^{exponent} is {result}\")\n"
      ],
      "metadata": {
        "colab": {
          "base_uri": "https://localhost:8080/"
        },
        "id": "bcZSwWD3F2Zf",
        "outputId": "62fffc98-9131-4705-c115-03a6fc626a68"
      },
      "execution_count": null,
      "outputs": [
        {
          "output_type": "stream",
          "name": "stdout",
          "text": [
            "The sum of the digits of 2^1000 is 1366\n"
          ]
        }
      ]
    },
    {
      "cell_type": "code",
      "source": [
        "def compute():\n",
        "\tans = 0\n",
        "\tx = 1  # Represents the current Fibonacci number being processed\n",
        "\ty = 2  # Represents the next Fibonacci number in the sequence\n",
        "\twhile x <= 4000000:\n",
        "\t\tif x % 2 == 0:\n",
        "\t\t\tans += x\n",
        "\t\tx, y = y, x + y\n",
        "\treturn str(ans)\n",
        "\n",
        "compute()"
      ],
      "metadata": {
        "id": "qbcS3NLPCF1W",
        "colab": {
          "base_uri": "https://localhost:8080/",
          "height": 36
        },
        "outputId": "8b3ad90e-a340-4a3e-f6ca-809cc73d9296"
      },
      "execution_count": null,
      "outputs": [
        {
          "output_type": "execute_result",
          "data": {
            "text/plain": [
              "'4613732'"
            ],
            "application/vnd.google.colaboratory.intrinsic+json": {
              "type": "string"
            }
          },
          "metadata": {},
          "execution_count": 5
        }
      ]
    },
    {
      "cell_type": "code",
      "source": [
        "import itertools\n",
        "\n",
        "def compute():\n",
        "\tnums = set()\n",
        "\tfor i in range(1, 10001):\n",
        "\t\tsigma = i * i\n",
        "\t\tfor j in itertools.count(i + 1):\n",
        "\t\t\tsigma += j * j\n",
        "\t\t\tif sigma >= 100000000:\n",
        "\t\t\t\tbreak\n",
        "\t\t\ts = str(sigma)\n",
        "\t\t\tif s == s[ : : -1]:  # Is palindrome\n",
        "\t\t\t\tnums.add(sigma)\n",
        "\treturn str(sum(nums))\n",
        "compute()"
      ],
      "metadata": {
        "colab": {
          "base_uri": "https://localhost:8080/",
          "height": 280
        },
        "id": "brLPfY4lPApl",
        "outputId": "821e2532-e315-4b69-9e2e-91038b0d47a2"
      },
      "execution_count": null,
      "outputs": [
        {
          "output_type": "error",
          "ename": "TypeError",
          "evalue": "'int' object is not callable",
          "traceback": [
            "\u001b[0;31m---------------------------------------------------------------------------\u001b[0m",
            "\u001b[0;31mTypeError\u001b[0m                                 Traceback (most recent call last)",
            "\u001b[0;32m<ipython-input-6-714d4de1dedf>\u001b[0m in \u001b[0;36m<cell line: 15>\u001b[0;34m()\u001b[0m\n\u001b[1;32m     13\u001b[0m                                 \u001b[0mnums\u001b[0m\u001b[0;34m.\u001b[0m\u001b[0madd\u001b[0m\u001b[0;34m(\u001b[0m\u001b[0msigma\u001b[0m\u001b[0;34m)\u001b[0m\u001b[0;34m\u001b[0m\u001b[0;34m\u001b[0m\u001b[0m\n\u001b[1;32m     14\u001b[0m         \u001b[0;32mreturn\u001b[0m \u001b[0mstr\u001b[0m\u001b[0;34m(\u001b[0m\u001b[0msum\u001b[0m\u001b[0;34m(\u001b[0m\u001b[0mnums\u001b[0m\u001b[0;34m)\u001b[0m\u001b[0;34m)\u001b[0m\u001b[0;34m\u001b[0m\u001b[0;34m\u001b[0m\u001b[0m\n\u001b[0;32m---> 15\u001b[0;31m \u001b[0mcompute\u001b[0m\u001b[0;34m(\u001b[0m\u001b[0;34m)\u001b[0m\u001b[0;34m\u001b[0m\u001b[0;34m\u001b[0m\u001b[0m\n\u001b[0m",
            "\u001b[0;32m<ipython-input-6-714d4de1dedf>\u001b[0m in \u001b[0;36mcompute\u001b[0;34m()\u001b[0m\n\u001b[1;32m     12\u001b[0m                         \u001b[0;32mif\u001b[0m \u001b[0ms\u001b[0m \u001b[0;34m==\u001b[0m \u001b[0ms\u001b[0m\u001b[0;34m[\u001b[0m \u001b[0;34m:\u001b[0m \u001b[0;34m:\u001b[0m \u001b[0;34m-\u001b[0m\u001b[0;36m1\u001b[0m\u001b[0;34m]\u001b[0m\u001b[0;34m:\u001b[0m  \u001b[0;31m# Is palindrome\u001b[0m\u001b[0;34m\u001b[0m\u001b[0;34m\u001b[0m\u001b[0m\n\u001b[1;32m     13\u001b[0m                                 \u001b[0mnums\u001b[0m\u001b[0;34m.\u001b[0m\u001b[0madd\u001b[0m\u001b[0;34m(\u001b[0m\u001b[0msigma\u001b[0m\u001b[0;34m)\u001b[0m\u001b[0;34m\u001b[0m\u001b[0;34m\u001b[0m\u001b[0m\n\u001b[0;32m---> 14\u001b[0;31m         \u001b[0;32mreturn\u001b[0m \u001b[0mstr\u001b[0m\u001b[0;34m(\u001b[0m\u001b[0msum\u001b[0m\u001b[0;34m(\u001b[0m\u001b[0mnums\u001b[0m\u001b[0;34m)\u001b[0m\u001b[0;34m)\u001b[0m\u001b[0;34m\u001b[0m\u001b[0;34m\u001b[0m\u001b[0m\n\u001b[0m\u001b[1;32m     15\u001b[0m \u001b[0mcompute\u001b[0m\u001b[0;34m(\u001b[0m\u001b[0;34m)\u001b[0m\u001b[0;34m\u001b[0m\u001b[0;34m\u001b[0m\u001b[0m\n",
            "\u001b[0;31mTypeError\u001b[0m: 'int' object is not callable"
          ]
        }
      ]
    }
  ]
}