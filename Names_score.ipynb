{
  "nbformat": 4,
  "nbformat_minor": 0,
  "metadata": {
    "colab": {
      "provenance": [],
      "include_colab_link": true
    },
    "kernelspec": {
      "name": "python3",
      "display_name": "Python 3"
    },
    "language_info": {
      "name": "python"
    }
  },
  "cells": [
    {
      "cell_type": "markdown",
      "metadata": {
        "id": "view-in-github",
        "colab_type": "text"
      },
      "source": [
        "<a href=\"https://colab.research.google.com/github/Shreedevi-Byahatti/Class-84/blob/main/Names_score.ipynb\" target=\"_parent\"><img src=\"https://colab.research.google.com/assets/colab-badge.svg\" alt=\"Open In Colab\"/></a>"
      ]
    },
    {
      "cell_type": "code",
      "execution_count": null,
      "metadata": {
        "colab": {
          "base_uri": "https://localhost:8080/"
        },
        "id": "b22z2HUvj5wb",
        "outputId": "df15d902-2f3d-43ec-a0f8-a0d20c1afb23"
      },
      "outputs": [
        {
          "output_type": "stream",
          "name": "stdout",
          "text": [
            "871198282\n"
          ]
        }
      ],
      "source": [
        "# Named score 22\n",
        "def worth(name):\n",
        "    return sum(ord(letter) - ord('A') + 1 for letter in name)\n",
        "\n",
        "with open('0022_names.txt') as file:\n",
        "    names = file.read().replace('\"', '').split(',')\n",
        "    names.sort()\n",
        "\n",
        "total_score = sum((i + 1) * worth(names[i]) for i in range(len(names)))\n",
        "print(total_score)"
      ]
    },
    {
      "cell_type": "code",
      "source": [
        "# Largest Prime Factor 3\n",
        "n = 600851475143\n",
        "i = 2\n",
        "\n",
        "while i * i < n:\n",
        "    while n % i == 0:\n",
        "        n = n / i\n",
        "    i = i + 1\n",
        "\n",
        "print(n)"
      ],
      "metadata": {
        "colab": {
          "base_uri": "https://localhost:8080/"
        },
        "id": "qjijq6Z-pGJq",
        "outputId": "841566f0-34ec-4f6b-ecad-edf22fd45b39"
      },
      "execution_count": null,
      "outputs": [
        {
          "output_type": "stream",
          "name": "stdout",
          "text": [
            "6857.0\n"
          ]
        }
      ]
    },
    {
      "cell_type": "code",
      "source": [
        "# Roman Numerals 89\n",
        "\n",
        "def subtractive(roman):\n",
        "    result = roman\n",
        "    replacements = [\n",
        "        (\"VIIII\", \"IX\"),\n",
        "        (\"IIII\", \"IV\"),\n",
        "        (\"LXXXX\", \"XC\"),\n",
        "        (\"XXXX\", \"XL\"),\n",
        "        (\"DCCCC\", \"CM\"),\n",
        "        (\"CCCC\", \"CD\"),\n",
        "    ]\n",
        "    for old, new in replacements:\n",
        "        result = result.replace(old, new)\n",
        "    return result\n",
        "\n",
        "current = 0\n",
        "improved = 0\n",
        "for line in open('0089_roman.txt'):\n",
        "    roman = line.strip()\n",
        "    current += len(roman)\n",
        "    improved += len(subtractive(roman))\n",
        "print(current - improved)"
      ],
      "metadata": {
        "colab": {
          "base_uri": "https://localhost:8080/"
        },
        "id": "R-a8DA3xkYP_",
        "outputId": "c75e3ff0-7f47-4492-cebc-5ac629a0b152"
      },
      "execution_count": null,
      "outputs": [
        {
          "output_type": "stream",
          "name": "stdout",
          "text": [
            "743\n"
          ]
        }
      ]
    },
    {
      "cell_type": "code",
      "source": [
        "# Counting Summations 76\n",
        "LIMIT = 100\n",
        "partitions = []\n",
        "for i in range(LIMIT + 1):\n",
        "    partitions.append([None] * (LIMIT + 1))\n",
        "    for j in reversed(range(LIMIT + 1)):\n",
        "        if j == i:\n",
        "            val = 1\n",
        "        elif j > i:\n",
        "            val = 0\n",
        "        elif j == 0:\n",
        "            val = partitions[i][j + 1]\n",
        "        else:\n",
        "            val = partitions[i][j + 1] + partitions[i - j][j]\n",
        "        partitions[i][j] = val\n",
        "\n",
        "ans = partitions[LIMIT][1] - 1\n",
        "print(str(ans))"
      ],
      "metadata": {
        "colab": {
          "base_uri": "https://localhost:8080/"
        },
        "id": "fRnEX-Alo_iG",
        "outputId": "f86ab239-979b-448f-a475-2fbbc8580c84"
      },
      "execution_count": null,
      "outputs": [
        {
          "output_type": "stream",
          "name": "stdout",
          "text": [
            "190569291\n"
          ]
        }
      ]
    },
    {
      "cell_type": "code",
      "source": [
        "# Counting Fractions in a Range 73\n",
        "ans = 0\n",
        "stack = [(1, 3, 1, 2)]\n",
        "while len(stack) > 0:\n",
        "    leftn, leftd, rightn, rightd = stack.pop()\n",
        "    d = leftd + rightd\n",
        "    if d <= 12000:\n",
        "        n = leftn + rightn\n",
        "        ans += 1\n",
        "        stack.append((n, d, rightn, rightd))\n",
        "        stack.append((leftn, leftd, n, d))\n",
        "print(str(ans))"
      ],
      "metadata": {
        "id": "GLBNfDwV2iIJ",
        "colab": {
          "base_uri": "https://localhost:8080/"
        },
        "outputId": "fe78cede-a303-4f50-cd22-1e520e191a61"
      },
      "execution_count": null,
      "outputs": [
        {
          "output_type": "stream",
          "name": "stdout",
          "text": [
            "309\n"
          ]
        }
      ]
    },
    {
      "cell_type": "code",
      "source": [
        "# Square Root Digital Expansion 80\n",
        "def dSum(n):\n",
        "    sum = 0\n",
        "    while n!=0:\n",
        "        sum+=n%10\n",
        "        n//=10\n",
        "    return sum\n",
        "\n",
        "def fastRoot(n):\n",
        "    a=5*n\n",
        "    b=5\n",
        "    limit = 10**(101)\n",
        "    while b<limit:\n",
        "        if a>=b:\n",
        "            a-=b\n",
        "            b+=10\n",
        "        else:\n",
        "            a*=100\n",
        "            b= (b-b%10)*10 + b%10\n",
        "    root = int(str(b)[:100])\n",
        "    return root\n",
        "result=0\n",
        "for n in range(1,101):\n",
        "    if n not in [1,4,9,16,25,36,49,64,81,100]:\n",
        "        rootN = fastRoot(n)\n",
        "        result += dSum(rootN)\n",
        "print(result)"
      ],
      "metadata": {
        "colab": {
          "base_uri": "https://localhost:8080/"
        },
        "id": "BLEuebgE801B",
        "outputId": "5cbb36d0-2c2e-42a2-8b30-c5b5bcd27784"
      },
      "execution_count": null,
      "outputs": [
        {
          "output_type": "stream",
          "name": "stdout",
          "text": [
            "40886\n"
          ]
        }
      ]
    },
    {
      "cell_type": "code",
      "source": [],
      "metadata": {
        "id": "yt0dzonA9j_A"
      },
      "execution_count": null,
      "outputs": []
    }
  ]
}